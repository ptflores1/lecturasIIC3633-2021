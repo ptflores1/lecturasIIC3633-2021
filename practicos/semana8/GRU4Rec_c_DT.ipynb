{
  "nbformat": 4,
  "nbformat_minor": 0,
  "metadata": {
    "colab": {
      "name": "Copia de GRU4Rec c/DT.ipynb",
      "provenance": [],
      "collapsed_sections": []
    },
    "kernelspec": {
      "name": "python3",
      "display_name": "Python 3"
    },
    "accelerator": "GPU"
  },
  "cells": [
    {
      "cell_type": "markdown",
      "metadata": {
        "id": "bcrDor7CR1SO"
      },
      "source": [
        "# Gated Recurrent Units for session-based next item prediction\n",
        "\n",
        "Patricio Cerda, Bastián Mavrakis, Denis Parra\n",
        "\n",
        "### Ambiente: Python3 + GPU\n",
        "\n",
        "## Descargar datos y repositorio"
      ]
    },
    {
      "cell_type": "code",
      "metadata": {
        "id": "nCAQDIrOPUQP",
        "colab": {
          "base_uri": "https://localhost:8080/"
        },
        "outputId": "d83298b7-2887-4327-a001-2bfabd16678d"
      },
      "source": [
        "# Clone repo\n",
        "!git clone https://github.com/pcerdam/KerasGRU4Rec --single-branch src"
      ],
      "execution_count": 1,
      "outputs": [
        {
          "output_type": "stream",
          "name": "stdout",
          "text": [
            "Cloning into 'src'...\n",
            "remote: Enumerating objects: 215, done.\u001b[K\n",
            "remote: Counting objects: 100% (24/24), done.\u001b[K\n",
            "remote: Compressing objects: 100% (17/17), done.\u001b[K\n",
            "remote: Total 215 (delta 9), reused 10 (delta 5), pack-reused 191\u001b[K\n",
            "Receiving objects: 100% (215/215), 10.58 MiB | 2.83 MiB/s, done.\n",
            "Resolving deltas: 100% (91/91), done.\n"
          ]
        }
      ]
    },
    {
      "cell_type": "code",
      "metadata": {
        "id": "BpccDqjDPbjI",
        "colab": {
          "base_uri": "https://localhost:8080/"
        },
        "outputId": "39dae867-e289-4509-900b-9afaaf215317"
      },
      "source": [
        "# Download RecSys Challenge 2015 dataset\n",
        "!rm -r sample_data\n",
        "!curl https://s3-eu-west-1.amazonaws.com/yc-rdata/yoochoose-data.7z --output data.7z"
      ],
      "execution_count": 2,
      "outputs": [
        {
          "output_type": "stream",
          "name": "stdout",
          "text": [
            "  % Total    % Received % Xferd  Average Speed   Time    Time     Time  Current\n",
            "                                 Dload  Upload   Total   Spent    Left  Speed\n",
            "100  273M  100  273M    0     0  69.9M      0  0:00:03  0:00:03 --:--:-- 69.9M\n"
          ]
        }
      ]
    },
    {
      "cell_type": "code",
      "metadata": {
        "id": "AJkLaRyqPp-z",
        "colab": {
          "base_uri": "https://localhost:8080/"
        },
        "outputId": "b14ffd7b-1e82-483c-f4ad-de3268506617"
      },
      "source": [
        "# Extract dataset\n",
        "!7z e data.7z -o./rsc15\n",
        "!rm data.7z\n",
        "!mkdir data"
      ],
      "execution_count": 3,
      "outputs": [
        {
          "output_type": "stream",
          "name": "stdout",
          "text": [
            "\n",
            "7-Zip [64] 16.02 : Copyright (c) 1999-2016 Igor Pavlov : 2016-05-21\n",
            "p7zip Version 16.02 (locale=en_US.UTF-8,Utf16=on,HugeFiles=on,64 bits,2 CPUs Intel(R) Xeon(R) CPU @ 2.30GHz (306F0),ASM,AES-NI)\n",
            "\n",
            "Scanning the drive for archives:\n",
            "  0M Scan\b\b\b\b\b\b\b\b\b         \b\b\b\b\b\b\b\b\b1 file, 287211932 bytes (274 MiB)\n",
            "\n",
            "Extracting archive: data.7z\n",
            "--\n",
            "Path = data.7z\n",
            "Type = 7z\n",
            "Physical Size = 287211932\n",
            "Headers Size = 255\n",
            "Method = LZMA:24\n",
            "Solid = +\n",
            "Blocks = 2\n",
            "\n",
            "  0%\b\b\b\b    \b\b\b\b  0% - yoochoose-buys.dat\b\b\b\b\b\b\b\b\b\b\b\b\b\b\b\b\b\b\b\b\b\b\b\b\b                         \b\b\b\b\b\b\b\b\b\b\b\b\b\b\b\b\b\b\b\b\b\b\b\b\b  1% - yoochoose-buys.dat\b\b\b\b\b\b\b\b\b\b\b\b\b\b\b\b\b\b\b\b\b\b\b\b\b                         \b\b\b\b\b\b\b\b\b\b\b\b\b\b\b\b\b\b\b\b\b\b\b\b\b  2% - yoochoose-buys.dat\b\b\b\b\b\b\b\b\b\b\b\b\b\b\b\b\b\b\b\b\b\b\b\b\b                         \b\b\b\b\b\b\b\b\b\b\b\b\b\b\b\b\b\b\b\b\b\b\b\b\b  2% 1 - yoochoose-clicks.dat\b\b\b\b\b\b\b\b\b\b\b\b\b\b\b\b\b\b\b\b\b\b\b\b\b\b\b\b\b                             \b\b\b\b\b\b\b\b\b\b\b\b\b\b\b\b\b\b\b\b\b\b\b\b\b\b\b\b\b  3% 1 - yoochoose-clicks.dat\b\b\b\b\b\b\b\b\b\b\b\b\b\b\b\b\b\b\b\b\b\b\b\b\b\b\b\b\b                             \b\b\b\b\b\b\b\b\b\b\b\b\b\b\b\b\b\b\b\b\b\b\b\b\b\b\b\b\b  4% 1 - yoochoose-clicks.dat\b\b\b\b\b\b\b\b\b\b\b\b\b\b\b\b\b\b\b\b\b\b\b\b\b\b\b\b\b                             \b\b\b\b\b\b\b\b\b\b\b\b\b\b\b\b\b\b\b\b\b\b\b\b\b\b\b\b\b  5% 1 - yoochoose-clicks.dat\b\b\b\b\b\b\b\b\b\b\b\b\b\b\b\b\b\b\b\b\b\b\b\b\b\b\b\b\b                             \b\b\b\b\b\b\b\b\b\b\b\b\b\b\b\b\b\b\b\b\b\b\b\b\b\b\b\b\b  6% 1 - yoochoose-clicks.dat\b\b\b\b\b\b\b\b\b\b\b\b\b\b\b\b\b\b\b\b\b\b\b\b\b\b\b\b\b                             \b\b\b\b\b\b\b\b\b\b\b\b\b\b\b\b\b\b\b\b\b\b\b\b\b\b\b\b\b  7% 1 - yoochoose-clicks.dat\b\b\b\b\b\b\b\b\b\b\b\b\b\b\b\b\b\b\b\b\b\b\b\b\b\b\b\b\b                             \b\b\b\b\b\b\b\b\b\b\b\b\b\b\b\b\b\b\b\b\b\b\b\b\b\b\b\b\b  8% 1 - yoochoose-clicks.dat\b\b\b\b\b\b\b\b\b\b\b\b\b\b\b\b\b\b\b\b\b\b\b\b\b\b\b\b\b                             \b\b\b\b\b\b\b\b\b\b\b\b\b\b\b\b\b\b\b\b\b\b\b\b\b\b\b\b\b  9% 1 - yoochoose-clicks.dat\b\b\b\b\b\b\b\b\b\b\b\b\b\b\b\b\b\b\b\b\b\b\b\b\b\b\b\b\b                             \b\b\b\b\b\b\b\b\b\b\b\b\b\b\b\b\b\b\b\b\b\b\b\b\b\b\b\b\b 10% 1 - yoochoose-clicks.dat\b\b\b\b\b\b\b\b\b\b\b\b\b\b\b\b\b\b\b\b\b\b\b\b\b\b\b\b\b                             \b\b\b\b\b\b\b\b\b\b\b\b\b\b\b\b\b\b\b\b\b\b\b\b\b\b\b\b\b 11% 1 - yoochoose-clicks.dat\b\b\b\b\b\b\b\b\b\b\b\b\b\b\b\b\b\b\b\b\b\b\b\b\b\b\b\b\b                             \b\b\b\b\b\b\b\b\b\b\b\b\b\b\b\b\b\b\b\b\b\b\b\b\b\b\b\b\b 12% 1 - yoochoose-clicks.dat\b\b\b\b\b\b\b\b\b\b\b\b\b\b\b\b\b\b\b\b\b\b\b\b\b\b\b\b\b                             \b\b\b\b\b\b\b\b\b\b\b\b\b\b\b\b\b\b\b\b\b\b\b\b\b\b\b\b\b 13% 1 - yoochoose-clicks.dat\b\b\b\b\b\b\b\b\b\b\b\b\b\b\b\b\b\b\b\b\b\b\b\b\b\b\b\b\b                             \b\b\b\b\b\b\b\b\b\b\b\b\b\b\b\b\b\b\b\b\b\b\b\b\b\b\b\b\b 14% 1 - yoochoose-clicks.dat\b\b\b\b\b\b\b\b\b\b\b\b\b\b\b\b\b\b\b\b\b\b\b\b\b\b\b\b\b                             \b\b\b\b\b\b\b\b\b\b\b\b\b\b\b\b\b\b\b\b\b\b\b\b\b\b\b\b\b 15% 1 - yoochoose-clicks.dat\b\b\b\b\b\b\b\b\b\b\b\b\b\b\b\b\b\b\b\b\b\b\b\b\b\b\b\b\b                             \b\b\b\b\b\b\b\b\b\b\b\b\b\b\b\b\b\b\b\b\b\b\b\b\b\b\b\b\b 16% 1 - yoochoose-clicks.dat\b\b\b\b\b\b\b\b\b\b\b\b\b\b\b\b\b\b\b\b\b\b\b\b\b\b\b\b\b                             \b\b\b\b\b\b\b\b\b\b\b\b\b\b\b\b\b\b\b\b\b\b\b\b\b\b\b\b\b 17% 1 - yoochoose-clicks.dat\b\b\b\b\b\b\b\b\b\b\b\b\b\b\b\b\b\b\b\b\b\b\b\b\b\b\b\b\b                             \b\b\b\b\b\b\b\b\b\b\b\b\b\b\b\b\b\b\b\b\b\b\b\b\b\b\b\b\b 18% 1 - yoochoose-clicks.dat\b\b\b\b\b\b\b\b\b\b\b\b\b\b\b\b\b\b\b\b\b\b\b\b\b\b\b\b\b                             \b\b\b\b\b\b\b\b\b\b\b\b\b\b\b\b\b\b\b\b\b\b\b\b\b\b\b\b\b 19% 1 - yoochoose-clicks.dat\b\b\b\b\b\b\b\b\b\b\b\b\b\b\b\b\b\b\b\b\b\b\b\b\b\b\b\b\b                             \b\b\b\b\b\b\b\b\b\b\b\b\b\b\b\b\b\b\b\b\b\b\b\b\b\b\b\b\b 20% 1 - yoochoose-clicks.dat\b\b\b\b\b\b\b\b\b\b\b\b\b\b\b\b\b\b\b\b\b\b\b\b\b\b\b\b\b                             \b\b\b\b\b\b\b\b\b\b\b\b\b\b\b\b\b\b\b\b\b\b\b\b\b\b\b\b\b 21% 1 - yoochoose-clicks.dat\b\b\b\b\b\b\b\b\b\b\b\b\b\b\b\b\b\b\b\b\b\b\b\b\b\b\b\b\b                             \b\b\b\b\b\b\b\b\b\b\b\b\b\b\b\b\b\b\b\b\b\b\b\b\b\b\b\b\b 22% 1 - yoochoose-clicks.dat\b\b\b\b\b\b\b\b\b\b\b\b\b\b\b\b\b\b\b\b\b\b\b\b\b\b\b\b\b                             \b\b\b\b\b\b\b\b\b\b\b\b\b\b\b\b\b\b\b\b\b\b\b\b\b\b\b\b\b 23% 1 - yoochoose-clicks.dat\b\b\b\b\b\b\b\b\b\b\b\b\b\b\b\b\b\b\b\b\b\b\b\b\b\b\b\b\b                             \b\b\b\b\b\b\b\b\b\b\b\b\b\b\b\b\b\b\b\b\b\b\b\b\b\b\b\b\b 24% 1 - yoochoose-clicks.dat\b\b\b\b\b\b\b\b\b\b\b\b\b\b\b\b\b\b\b\b\b\b\b\b\b\b\b\b\b                             \b\b\b\b\b\b\b\b\b\b\b\b\b\b\b\b\b\b\b\b\b\b\b\b\b\b\b\b\b 25% 1 - yoochoose-clicks.dat\b\b\b\b\b\b\b\b\b\b\b\b\b\b\b\b\b\b\b\b\b\b\b\b\b\b\b\b\b                             \b\b\b\b\b\b\b\b\b\b\b\b\b\b\b\b\b\b\b\b\b\b\b\b\b\b\b\b\b 26% 1 - yoochoose-clicks.dat\b\b\b\b\b\b\b\b\b\b\b\b\b\b\b\b\b\b\b\b\b\b\b\b\b\b\b\b\b                             \b\b\b\b\b\b\b\b\b\b\b\b\b\b\b\b\b\b\b\b\b\b\b\b\b\b\b\b\b 27% 1 - yoochoose-clicks.dat\b\b\b\b\b\b\b\b\b\b\b\b\b\b\b\b\b\b\b\b\b\b\b\b\b\b\b\b\b                             \b\b\b\b\b\b\b\b\b\b\b\b\b\b\b\b\b\b\b\b\b\b\b\b\b\b\b\b\b 28% 1 - yoochoose-clicks.dat\b\b\b\b\b\b\b\b\b\b\b\b\b\b\b\b\b\b\b\b\b\b\b\b\b\b\b\b\b                             \b\b\b\b\b\b\b\b\b\b\b\b\b\b\b\b\b\b\b\b\b\b\b\b\b\b\b\b\b 29% 1 - yoochoose-clicks.dat\b\b\b\b\b\b\b\b\b\b\b\b\b\b\b\b\b\b\b\b\b\b\b\b\b\b\b\b\b                             \b\b\b\b\b\b\b\b\b\b\b\b\b\b\b\b\b\b\b\b\b\b\b\b\b\b\b\b\b 30% 1 - yoochoose-clicks.dat\b\b\b\b\b\b\b\b\b\b\b\b\b\b\b\b\b\b\b\b\b\b\b\b\b\b\b\b\b                             \b\b\b\b\b\b\b\b\b\b\b\b\b\b\b\b\b\b\b\b\b\b\b\b\b\b\b\b\b 31% 1 - yoochoose-clicks.dat\b\b\b\b\b\b\b\b\b\b\b\b\b\b\b\b\b\b\b\b\b\b\b\b\b\b\b\b\b                             \b\b\b\b\b\b\b\b\b\b\b\b\b\b\b\b\b\b\b\b\b\b\b\b\b\b\b\b\b 32% 1 - yoochoose-clicks.dat\b\b\b\b\b\b\b\b\b\b\b\b\b\b\b\b\b\b\b\b\b\b\b\b\b\b\b\b\b                             \b\b\b\b\b\b\b\b\b\b\b\b\b\b\b\b\b\b\b\b\b\b\b\b\b\b\b\b\b 33% 1 - yoochoose-clicks.dat\b\b\b\b\b\b\b\b\b\b\b\b\b\b\b\b\b\b\b\b\b\b\b\b\b\b\b\b\b                             \b\b\b\b\b\b\b\b\b\b\b\b\b\b\b\b\b\b\b\b\b\b\b\b\b\b\b\b\b 34% 1 - yoochoose-clicks.dat\b\b\b\b\b\b\b\b\b\b\b\b\b\b\b\b\b\b\b\b\b\b\b\b\b\b\b\b\b                             \b\b\b\b\b\b\b\b\b\b\b\b\b\b\b\b\b\b\b\b\b\b\b\b\b\b\b\b\b 35% 1 - yoochoose-clicks.dat\b\b\b\b\b\b\b\b\b\b\b\b\b\b\b\b\b\b\b\b\b\b\b\b\b\b\b\b\b                             \b\b\b\b\b\b\b\b\b\b\b\b\b\b\b\b\b\b\b\b\b\b\b\b\b\b\b\b\b 36% 1 - yoochoose-clicks.dat\b\b\b\b\b\b\b\b\b\b\b\b\b\b\b\b\b\b\b\b\b\b\b\b\b\b\b\b\b                             \b\b\b\b\b\b\b\b\b\b\b\b\b\b\b\b\b\b\b\b\b\b\b\b\b\b\b\b\b 37% 1 - yoochoose-clicks.dat\b\b\b\b\b\b\b\b\b\b\b\b\b\b\b\b\b\b\b\b\b\b\b\b\b\b\b\b\b                             \b\b\b\b\b\b\b\b\b\b\b\b\b\b\b\b\b\b\b\b\b\b\b\b\b\b\b\b\b 38% 1 - yoochoose-clicks.dat\b\b\b\b\b\b\b\b\b\b\b\b\b\b\b\b\b\b\b\b\b\b\b\b\b\b\b\b\b                             \b\b\b\b\b\b\b\b\b\b\b\b\b\b\b\b\b\b\b\b\b\b\b\b\b\b\b\b\b 39% 1 - yoochoose-clicks.dat\b\b\b\b\b\b\b\b\b\b\b\b\b\b\b\b\b\b\b\b\b\b\b\b\b\b\b\b\b                             \b\b\b\b\b\b\b\b\b\b\b\b\b\b\b\b\b\b\b\b\b\b\b\b\b\b\b\b\b 40% 1 - yoochoose-clicks.dat\b\b\b\b\b\b\b\b\b\b\b\b\b\b\b\b\b\b\b\b\b\b\b\b\b\b\b\b\b                             \b\b\b\b\b\b\b\b\b\b\b\b\b\b\b\b\b\b\b\b\b\b\b\b\b\b\b\b\b 41% 1 - yoochoose-clicks.dat\b\b\b\b\b\b\b\b\b\b\b\b\b\b\b\b\b\b\b\b\b\b\b\b\b\b\b\b\b                             \b\b\b\b\b\b\b\b\b\b\b\b\b\b\b\b\b\b\b\b\b\b\b\b\b\b\b\b\b 42% 1 - yoochoose-clicks.dat\b\b\b\b\b\b\b\b\b\b\b\b\b\b\b\b\b\b\b\b\b\b\b\b\b\b\b\b\b                             \b\b\b\b\b\b\b\b\b\b\b\b\b\b\b\b\b\b\b\b\b\b\b\b\b\b\b\b\b 43% 1 - yoochoose-clicks.dat\b\b\b\b\b\b\b\b\b\b\b\b\b\b\b\b\b\b\b\b\b\b\b\b\b\b\b\b\b                             \b\b\b\b\b\b\b\b\b\b\b\b\b\b\b\b\b\b\b\b\b\b\b\b\b\b\b\b\b 44% 1 - yoochoose-clicks.dat\b\b\b\b\b\b\b\b\b\b\b\b\b\b\b\b\b\b\b\b\b\b\b\b\b\b\b\b\b                             \b\b\b\b\b\b\b\b\b\b\b\b\b\b\b\b\b\b\b\b\b\b\b\b\b\b\b\b\b 45% 1 - yoochoose-clicks.dat\b\b\b\b\b\b\b\b\b\b\b\b\b\b\b\b\b\b\b\b\b\b\b\b\b\b\b\b\b                             \b\b\b\b\b\b\b\b\b\b\b\b\b\b\b\b\b\b\b\b\b\b\b\b\b\b\b\b\b 46% 1 - yoochoose-clicks.dat\b\b\b\b\b\b\b\b\b\b\b\b\b\b\b\b\b\b\b\b\b\b\b\b\b\b\b\b\b                             \b\b\b\b\b\b\b\b\b\b\b\b\b\b\b\b\b\b\b\b\b\b\b\b\b\b\b\b\b 47% 1 - yoochoose-clicks.dat\b\b\b\b\b\b\b\b\b\b\b\b\b\b\b\b\b\b\b\b\b\b\b\b\b\b\b\b\b                             \b\b\b\b\b\b\b\b\b\b\b\b\b\b\b\b\b\b\b\b\b\b\b\b\b\b\b\b\b 48% 1 - yoochoose-clicks.dat\b\b\b\b\b\b\b\b\b\b\b\b\b\b\b\b\b\b\b\b\b\b\b\b\b\b\b\b\b                             \b\b\b\b\b\b\b\b\b\b\b\b\b\b\b\b\b\b\b\b\b\b\b\b\b\b\b\b\b 49% 1 - yoochoose-clicks.dat\b\b\b\b\b\b\b\b\b\b\b\b\b\b\b\b\b\b\b\b\b\b\b\b\b\b\b\b\b                             \b\b\b\b\b\b\b\b\b\b\b\b\b\b\b\b\b\b\b\b\b\b\b\b\b\b\b\b\b 50% 1 - yoochoose-clicks.dat\b\b\b\b\b\b\b\b\b\b\b\b\b\b\b\b\b\b\b\b\b\b\b\b\b\b\b\b\b                             \b\b\b\b\b\b\b\b\b\b\b\b\b\b\b\b\b\b\b\b\b\b\b\b\b\b\b\b\b 51% 1 - yoochoose-clicks.dat\b\b\b\b\b\b\b\b\b\b\b\b\b\b\b\b\b\b\b\b\b\b\b\b\b\b\b\b\b                             \b\b\b\b\b\b\b\b\b\b\b\b\b\b\b\b\b\b\b\b\b\b\b\b\b\b\b\b\b 52% 1 - yoochoose-clicks.dat\b\b\b\b\b\b\b\b\b\b\b\b\b\b\b\b\b\b\b\b\b\b\b\b\b\b\b\b\b                             \b\b\b\b\b\b\b\b\b\b\b\b\b\b\b\b\b\b\b\b\b\b\b\b\b\b\b\b\b 53% 1 - yoochoose-clicks.dat\b\b\b\b\b\b\b\b\b\b\b\b\b\b\b\b\b\b\b\b\b\b\b\b\b\b\b\b\b                             \b\b\b\b\b\b\b\b\b\b\b\b\b\b\b\b\b\b\b\b\b\b\b\b\b\b\b\b\b 54% 1 - yoochoose-clicks.dat\b\b\b\b\b\b\b\b\b\b\b\b\b\b\b\b\b\b\b\b\b\b\b\b\b\b\b\b\b                             \b\b\b\b\b\b\b\b\b\b\b\b\b\b\b\b\b\b\b\b\b\b\b\b\b\b\b\b\b 55% 1 - yoochoose-clicks.dat\b\b\b\b\b\b\b\b\b\b\b\b\b\b\b\b\b\b\b\b\b\b\b\b\b\b\b\b\b                             \b\b\b\b\b\b\b\b\b\b\b\b\b\b\b\b\b\b\b\b\b\b\b\b\b\b\b\b\b 56% 1 - yoochoose-clicks.dat\b\b\b\b\b\b\b\b\b\b\b\b\b\b\b\b\b\b\b\b\b\b\b\b\b\b\b\b\b                             \b\b\b\b\b\b\b\b\b\b\b\b\b\b\b\b\b\b\b\b\b\b\b\b\b\b\b\b\b 57% 1 - yoochoose-clicks.dat\b\b\b\b\b\b\b\b\b\b\b\b\b\b\b\b\b\b\b\b\b\b\b\b\b\b\b\b\b                             \b\b\b\b\b\b\b\b\b\b\b\b\b\b\b\b\b\b\b\b\b\b\b\b\b\b\b\b\b 58% 1 - yoochoose-clicks.dat\b\b\b\b\b\b\b\b\b\b\b\b\b\b\b\b\b\b\b\b\b\b\b\b\b\b\b\b\b                             \b\b\b\b\b\b\b\b\b\b\b\b\b\b\b\b\b\b\b\b\b\b\b\b\b\b\b\b\b 59% 1 - yoochoose-clicks.dat\b\b\b\b\b\b\b\b\b\b\b\b\b\b\b\b\b\b\b\b\b\b\b\b\b\b\b\b\b                             \b\b\b\b\b\b\b\b\b\b\b\b\b\b\b\b\b\b\b\b\b\b\b\b\b\b\b\b\b 60% 1 - yoochoose-clicks.dat\b\b\b\b\b\b\b\b\b\b\b\b\b\b\b\b\b\b\b\b\b\b\b\b\b\b\b\b\b                             \b\b\b\b\b\b\b\b\b\b\b\b\b\b\b\b\b\b\b\b\b\b\b\b\b\b\b\b\b 61% 1 - yoochoose-clicks.dat\b\b\b\b\b\b\b\b\b\b\b\b\b\b\b\b\b\b\b\b\b\b\b\b\b\b\b\b\b                             \b\b\b\b\b\b\b\b\b\b\b\b\b\b\b\b\b\b\b\b\b\b\b\b\b\b\b\b\b 62% 1 - yoochoose-clicks.dat\b\b\b\b\b\b\b\b\b\b\b\b\b\b\b\b\b\b\b\b\b\b\b\b\b\b\b\b\b                             \b\b\b\b\b\b\b\b\b\b\b\b\b\b\b\b\b\b\b\b\b\b\b\b\b\b\b\b\b 63% 1 - yoochoose-clicks.dat\b\b\b\b\b\b\b\b\b\b\b\b\b\b\b\b\b\b\b\b\b\b\b\b\b\b\b\b\b                             \b\b\b\b\b\b\b\b\b\b\b\b\b\b\b\b\b\b\b\b\b\b\b\b\b\b\b\b\b 64% 1 - yoochoose-clicks.dat\b\b\b\b\b\b\b\b\b\b\b\b\b\b\b\b\b\b\b\b\b\b\b\b\b\b\b\b\b                             \b\b\b\b\b\b\b\b\b\b\b\b\b\b\b\b\b\b\b\b\b\b\b\b\b\b\b\b\b 65% 1 - yoochoose-clicks.dat\b\b\b\b\b\b\b\b\b\b\b\b\b\b\b\b\b\b\b\b\b\b\b\b\b\b\b\b\b                             \b\b\b\b\b\b\b\b\b\b\b\b\b\b\b\b\b\b\b\b\b\b\b\b\b\b\b\b\b 66% 1 - yoochoose-clicks.dat\b\b\b\b\b\b\b\b\b\b\b\b\b\b\b\b\b\b\b\b\b\b\b\b\b\b\b\b\b                             \b\b\b\b\b\b\b\b\b\b\b\b\b\b\b\b\b\b\b\b\b\b\b\b\b\b\b\b\b 67% 1 - yoochoose-clicks.dat\b\b\b\b\b\b\b\b\b\b\b\b\b\b\b\b\b\b\b\b\b\b\b\b\b\b\b\b\b                             \b\b\b\b\b\b\b\b\b\b\b\b\b\b\b\b\b\b\b\b\b\b\b\b\b\b\b\b\b 68% 1 - yoochoose-clicks.dat\b\b\b\b\b\b\b\b\b\b\b\b\b\b\b\b\b\b\b\b\b\b\b\b\b\b\b\b\b                             \b\b\b\b\b\b\b\b\b\b\b\b\b\b\b\b\b\b\b\b\b\b\b\b\b\b\b\b\b 69% 1 - yoochoose-clicks.dat\b\b\b\b\b\b\b\b\b\b\b\b\b\b\b\b\b\b\b\b\b\b\b\b\b\b\b\b\b                             \b\b\b\b\b\b\b\b\b\b\b\b\b\b\b\b\b\b\b\b\b\b\b\b\b\b\b\b\b 70% 1 - yoochoose-clicks.dat\b\b\b\b\b\b\b\b\b\b\b\b\b\b\b\b\b\b\b\b\b\b\b\b\b\b\b\b\b                             \b\b\b\b\b\b\b\b\b\b\b\b\b\b\b\b\b\b\b\b\b\b\b\b\b\b\b\b\b 71% 1 - yoochoose-clicks.dat\b\b\b\b\b\b\b\b\b\b\b\b\b\b\b\b\b\b\b\b\b\b\b\b\b\b\b\b\b                             \b\b\b\b\b\b\b\b\b\b\b\b\b\b\b\b\b\b\b\b\b\b\b\b\b\b\b\b\b 72% 1 - yoochoose-clicks.dat\b\b\b\b\b\b\b\b\b\b\b\b\b\b\b\b\b\b\b\b\b\b\b\b\b\b\b\b\b                             \b\b\b\b\b\b\b\b\b\b\b\b\b\b\b\b\b\b\b\b\b\b\b\b\b\b\b\b\b 73% 1 - yoochoose-clicks.dat\b\b\b\b\b\b\b\b\b\b\b\b\b\b\b\b\b\b\b\b\b\b\b\b\b\b\b\b\b                             \b\b\b\b\b\b\b\b\b\b\b\b\b\b\b\b\b\b\b\b\b\b\b\b\b\b\b\b\b 74% 1 - yoochoose-clicks.dat\b\b\b\b\b\b\b\b\b\b\b\b\b\b\b\b\b\b\b\b\b\b\b\b\b\b\b\b\b                             \b\b\b\b\b\b\b\b\b\b\b\b\b\b\b\b\b\b\b\b\b\b\b\b\b\b\b\b\b 75% 1 - yoochoose-clicks.dat\b\b\b\b\b\b\b\b\b\b\b\b\b\b\b\b\b\b\b\b\b\b\b\b\b\b\b\b\b                             \b\b\b\b\b\b\b\b\b\b\b\b\b\b\b\b\b\b\b\b\b\b\b\b\b\b\b\b\b 76% 1 - yoochoose-clicks.dat\b\b\b\b\b\b\b\b\b\b\b\b\b\b\b\b\b\b\b\b\b\b\b\b\b\b\b\b\b                             \b\b\b\b\b\b\b\b\b\b\b\b\b\b\b\b\b\b\b\b\b\b\b\b\b\b\b\b\b 77% 1 - yoochoose-clicks.dat\b\b\b\b\b\b\b\b\b\b\b\b\b\b\b\b\b\b\b\b\b\b\b\b\b\b\b\b\b                             \b\b\b\b\b\b\b\b\b\b\b\b\b\b\b\b\b\b\b\b\b\b\b\b\b\b\b\b\b 78% 1 - yoochoose-clicks.dat\b\b\b\b\b\b\b\b\b\b\b\b\b\b\b\b\b\b\b\b\b\b\b\b\b\b\b\b\b                             \b\b\b\b\b\b\b\b\b\b\b\b\b\b\b\b\b\b\b\b\b\b\b\b\b\b\b\b\b 79% 1 - yoochoose-clicks.dat\b\b\b\b\b\b\b\b\b\b\b\b\b\b\b\b\b\b\b\b\b\b\b\b\b\b\b\b\b                             \b\b\b\b\b\b\b\b\b\b\b\b\b\b\b\b\b\b\b\b\b\b\b\b\b\b\b\b\b 80% 1 - yoochoose-clicks.dat\b\b\b\b\b\b\b\b\b\b\b\b\b\b\b\b\b\b\b\b\b\b\b\b\b\b\b\b\b                             \b\b\b\b\b\b\b\b\b\b\b\b\b\b\b\b\b\b\b\b\b\b\b\b\b\b\b\b\b 80% 2 - yoochoose-test.dat\b\b\b\b\b\b\b\b\b\b\b\b\b\b\b\b\b\b\b\b\b\b\b\b\b\b\b                           \b\b\b\b\b\b\b\b\b\b\b\b\b\b\b\b\b\b\b\b\b\b\b\b\b\b\b 81% 2 - yoochoose-test.dat\b\b\b\b\b\b\b\b\b\b\b\b\b\b\b\b\b\b\b\b\b\b\b\b\b\b\b                           \b\b\b\b\b\b\b\b\b\b\b\b\b\b\b\b\b\b\b\b\b\b\b\b\b\b\b 82% 2 - yoochoose-test.dat\b\b\b\b\b\b\b\b\b\b\b\b\b\b\b\b\b\b\b\b\b\b\b\b\b\b\b                           \b\b\b\b\b\b\b\b\b\b\b\b\b\b\b\b\b\b\b\b\b\b\b\b\b\b\b 83% 2 - yoochoose-test.dat\b\b\b\b\b\b\b\b\b\b\b\b\b\b\b\b\b\b\b\b\b\b\b\b\b\b\b                           \b\b\b\b\b\b\b\b\b\b\b\b\b\b\b\b\b\b\b\b\b\b\b\b\b\b\b 84% 2 - yoochoose-test.dat\b\b\b\b\b\b\b\b\b\b\b\b\b\b\b\b\b\b\b\b\b\b\b\b\b\b\b                           \b\b\b\b\b\b\b\b\b\b\b\b\b\b\b\b\b\b\b\b\b\b\b\b\b\b\b 85% 2 - yoochoose-test.dat\b\b\b\b\b\b\b\b\b\b\b\b\b\b\b\b\b\b\b\b\b\b\b\b\b\b\b                           \b\b\b\b\b\b\b\b\b\b\b\b\b\b\b\b\b\b\b\b\b\b\b\b\b\b\b 86% 2 - yoochoose-test.dat\b\b\b\b\b\b\b\b\b\b\b\b\b\b\b\b\b\b\b\b\b\b\b\b\b\b\b                           \b\b\b\b\b\b\b\b\b\b\b\b\b\b\b\b\b\b\b\b\b\b\b\b\b\b\b 87% 2 - yoochoose-test.dat\b\b\b\b\b\b\b\b\b\b\b\b\b\b\b\b\b\b\b\b\b\b\b\b\b\b\b                           \b\b\b\b\b\b\b\b\b\b\b\b\b\b\b\b\b\b\b\b\b\b\b\b\b\b\b 88% 2 - yoochoose-test.dat\b\b\b\b\b\b\b\b\b\b\b\b\b\b\b\b\b\b\b\b\b\b\b\b\b\b\b                           \b\b\b\b\b\b\b\b\b\b\b\b\b\b\b\b\b\b\b\b\b\b\b\b\b\b\b 89% 2 - yoochoose-test.dat\b\b\b\b\b\b\b\b\b\b\b\b\b\b\b\b\b\b\b\b\b\b\b\b\b\b\b                           \b\b\b\b\b\b\b\b\b\b\b\b\b\b\b\b\b\b\b\b\b\b\b\b\b\b\b 90% 2 - yoochoose-test.dat\b\b\b\b\b\b\b\b\b\b\b\b\b\b\b\b\b\b\b\b\b\b\b\b\b\b\b                           \b\b\b\b\b\b\b\b\b\b\b\b\b\b\b\b\b\b\b\b\b\b\b\b\b\b\b 91% 2 - yoochoose-test.dat\b\b\b\b\b\b\b\b\b\b\b\b\b\b\b\b\b\b\b\b\b\b\b\b\b\b\b                           \b\b\b\b\b\b\b\b\b\b\b\b\b\b\b\b\b\b\b\b\b\b\b\b\b\b\b 92% 2 - yoochoose-test.dat\b\b\b\b\b\b\b\b\b\b\b\b\b\b\b\b\b\b\b\b\b\b\b\b\b\b\b                           \b\b\b\b\b\b\b\b\b\b\b\b\b\b\b\b\b\b\b\b\b\b\b\b\b\b\b 93% 2 - yoochoose-test.dat\b\b\b\b\b\b\b\b\b\b\b\b\b\b\b\b\b\b\b\b\b\b\b\b\b\b\b                           \b\b\b\b\b\b\b\b\b\b\b\b\b\b\b\b\b\b\b\b\b\b\b\b\b\b\b 94% 2 - yoochoose-test.dat\b\b\b\b\b\b\b\b\b\b\b\b\b\b\b\b\b\b\b\b\b\b\b\b\b\b\b                           \b\b\b\b\b\b\b\b\b\b\b\b\b\b\b\b\b\b\b\b\b\b\b\b\b\b\b 95% 2 - yoochoose-test.dat\b\b\b\b\b\b\b\b\b\b\b\b\b\b\b\b\b\b\b\b\b\b\b\b\b\b\b                           \b\b\b\b\b\b\b\b\b\b\b\b\b\b\b\b\b\b\b\b\b\b\b\b\b\b\b 96% 2 - yoochoose-test.dat\b\b\b\b\b\b\b\b\b\b\b\b\b\b\b\b\b\b\b\b\b\b\b\b\b\b\b                           \b\b\b\b\b\b\b\b\b\b\b\b\b\b\b\b\b\b\b\b\b\b\b\b\b\b\b 97% 2 - yoochoose-test.dat\b\b\b\b\b\b\b\b\b\b\b\b\b\b\b\b\b\b\b\b\b\b\b\b\b\b\b                           \b\b\b\b\b\b\b\b\b\b\b\b\b\b\b\b\b\b\b\b\b\b\b\b\b\b\b 98% 2 - yoochoose-test.dat\b\b\b\b\b\b\b\b\b\b\b\b\b\b\b\b\b\b\b\b\b\b\b\b\b\b\b                           \b\b\b\b\b\b\b\b\b\b\b\b\b\b\b\b\b\b\b\b\b\b\b\b\b\b\b 99% 2 - yoochoose-test.dat\b\b\b\b\b\b\b\b\b\b\b\b\b\b\b\b\b\b\b\b\b\b\b\b\b\b\b                           \b\b\b\b\b\b\b\b\b\b\b\b\b\b\b\b\b\b\b\b\b\b\b\b\b\b\b 99% 3\b\b\b\b\b\b      \b\b\b\b\b\bEverything is Ok\n",
            "\n",
            "Files: 4\n",
            "Size:       1914111754\n",
            "Compressed: 287211932\n"
          ]
        }
      ]
    },
    {
      "cell_type": "markdown",
      "metadata": {
        "id": "gpjJOcqDR945"
      },
      "source": [
        "# Preprocesar dataset"
      ]
    },
    {
      "cell_type": "code",
      "metadata": {
        "id": "7E3mSmYQR9k-"
      },
      "source": [
        "import os\n",
        "import numpy as np\n",
        "import pandas as pd\n",
        "import datetime as dt\n",
        "from matplotlib import pyplot as plt\n",
        "os.environ['TF_CPP_MIN_LOG_LEVEL'] = '3'"
      ],
      "execution_count": 4,
      "outputs": []
    },
    {
      "cell_type": "code",
      "metadata": {
        "id": "WwNyFUAHRssj"
      },
      "source": [
        "src_path = './rsc15/'\n",
        "dst_path   = './data/'"
      ],
      "execution_count": 5,
      "outputs": []
    },
    {
      "cell_type": "code",
      "metadata": {
        "id": "om43PXTNSoLu"
      },
      "source": [
        "def process(src_path, dst_path):\n",
        "  data = pd.read_csv(src_path + 'yoochoose-clicks.dat', sep=',', header=None, usecols=[0,1,2], dtype={0:np.int32, 1:str, 2:np.int64})\n",
        "  data.columns = ['SessionId', 'TimeStr', 'ItemId']\n",
        "\n",
        "  # Add timestamp\n",
        "  data['Time'] = data.TimeStr.apply(lambda x: dt.datetime.strptime(x, '%Y-%m-%dT%H:%M:%S.%fZ').timestamp())\n",
        "  del(data['TimeStr'])\n",
        "\n",
        "  # Filter by session size > 1\n",
        "  session_lengths = data.groupby('SessionId').size()  \n",
        "  data = data[np.in1d(data.SessionId, session_lengths[session_lengths>1].index)]\n",
        "  \n",
        "  # Filter by \"known\" (appears >= 5) items\n",
        "  item_supports = data.groupby('ItemId').size()\n",
        "  data = data[np.in1d(data.ItemId, item_supports[item_supports>=5].index)]\n",
        "  \n",
        "  # Filter by session size > 2\n",
        "  session_lengths = data.groupby('SessionId').size()\n",
        "  data = data[np.in1d(data.SessionId, session_lengths[session_lengths>=2].index)]\n",
        "\n",
        "  # Test split is entire last day\n",
        "  tmax = data.Time.max()\n",
        "  session_max_times = data.groupby('SessionId').Time.max()\n",
        "  \n",
        "  session_train = session_max_times[session_max_times < tmax-86400].index\n",
        "  train = data[np.in1d(data.SessionId, session_train)]\n",
        "  \n",
        "  session_test = session_max_times[session_max_times >= tmax-86400].index\n",
        "  test = data[np.in1d(data.SessionId, session_test)]\n",
        "  test = test[np.in1d(test.ItemId, train.ItemId)]\n",
        "  tslength = test.groupby('SessionId').size()\n",
        "  test = test[np.in1d(test.SessionId, tslength[tslength>=2].index)]\n",
        "  print('Test set\\n\\tEvents: {}\\n\\tSessions: {}\\n\\tItems: {}'.format(len(test), test.SessionId.nunique(), test.ItemId.nunique()))\n",
        "  test.to_csv(dst_path + 'test.tsv', sep='\\t', index=False)\n",
        "\n",
        "  # Validation: second to last day. Train: remainder\n",
        "  tmax = train.Time.max()\n",
        "  session_max_times = train.groupby('SessionId').Time.max()\n",
        "  session_train = session_max_times[session_max_times < tmax-86400].index\n",
        "  session_valid = session_max_times[session_max_times >= tmax-86400].index\n",
        "\n",
        "  train_tr = train[np.in1d(train.SessionId, session_train)]\n",
        "  valid = train[np.in1d(train.SessionId, session_valid)]\n",
        "  valid = valid[np.in1d(valid.ItemId, train_tr.ItemId)]\n",
        "  tslength = valid.groupby('SessionId').size()\n",
        "  valid = valid[np.in1d(valid.SessionId, tslength[tslength>=2].index)]\n",
        "  print('Validation set\\n\\tEvents: {}\\n\\tSessions: {}\\n\\tItems: {}'.format(len(valid), valid.SessionId.nunique(), valid.ItemId.nunique()))\n",
        "  valid.to_csv(dst_path + 'validation.tsv', sep='\\t', index=False)\n",
        "  \n",
        "  \n",
        "  print('Train set\\n\\tEvents: {}\\n\\tSessions: {}\\n\\tItems: {}'.format(len(train_tr), train_tr.SessionId.nunique(), train_tr.ItemId.nunique()))\n",
        "  train_tr.to_csv(dst_path + 'train.tsv', sep='\\t', index=False)\n"
      ],
      "execution_count": 6,
      "outputs": []
    },
    {
      "cell_type": "code",
      "metadata": {
        "id": "nc6wy4phS1v2",
        "colab": {
          "base_uri": "https://localhost:8080/"
        },
        "outputId": "97be8529-44c4-473e-a1ec-5a130804e00f"
      },
      "source": [
        "process(src_path, dst_path)  # Takes ~10 minutes"
      ],
      "execution_count": 7,
      "outputs": [
        {
          "output_type": "stream",
          "name": "stdout",
          "text": [
            "Test set\n",
            "\tEvents: 71222\n",
            "\tSessions: 15324\n",
            "\tItems: 6751\n",
            "Validation set\n",
            "\tEvents: 58233\n",
            "\tSessions: 12372\n",
            "\tItems: 6359\n",
            "Train set\n",
            "\tEvents: 31579006\n",
            "\tSessions: 7953885\n",
            "\tItems: 37483\n"
          ]
        }
      ]
    },
    {
      "cell_type": "code",
      "metadata": {
        "id": "kx_HdipUDS2z"
      },
      "source": [
        "def train_fraction(df, fraction, prefix=\"train\", path=\"./data/\"):\n",
        "    \n",
        "    length = len(df['ItemId'])\n",
        "    first_session = df.iloc[length - length//fraction].SessionId\n",
        "    df = df.loc[df['SessionId'] >= first_session]\n",
        "    itemids = df['ItemId'].unique()\n",
        "    n_items = len(itemids)\n",
        "\n",
        "    print('Fractioned data set\\n\\tEvents: {}\\n\\tSessions: {}\\n\\tItems: {}'.format(len(df), df.SessionId.nunique(), df.ItemId.nunique()))\n",
        "    filename = path + '{}_{}.tsv'.format(prefix, fraction)\n",
        "    df.to_csv(filename, sep='\\t', index=False)\n",
        "    print(\"Saved as {}\".format(filename))"
      ],
      "execution_count": 8,
      "outputs": []
    },
    {
      "cell_type": "code",
      "metadata": {
        "id": "4r1tWG1gh7eX",
        "colab": {
          "base_uri": "https://localhost:8080/"
        },
        "outputId": "489f759b-dd09-4e03-eee0-2eccae9c5ae5"
      },
      "source": [
        "# Obtain most recent 1/nth fraction of train for demo purposes\n",
        "fraction = 64\n",
        "train = pd.read_csv(dst_path + 'train.tsv', sep='\\t', dtype={'ItemId':np.int64})\n",
        "train_fraction(train, fraction)\n"
      ],
      "execution_count": 9,
      "outputs": [
        {
          "output_type": "stream",
          "name": "stdout",
          "text": [
            "Fractioned data set\n",
            "\tEvents: 71391\n",
            "\tSessions: 17450\n",
            "\tItems: 8724\n",
            "Saved as ./data/train_64.tsv\n"
          ]
        }
      ]
    },
    {
      "cell_type": "markdown",
      "metadata": {
        "id": "ZWgvazVufHs6"
      },
      "source": [
        "# Entrenamiento"
      ]
    },
    {
      "cell_type": "code",
      "metadata": {
        "id": "PSPwVh4AS_GW",
        "colab": {
          "base_uri": "https://localhost:8080/"
        },
        "outputId": "5ad31fe6-c07c-4a82-fd29-ec4cc174d65c"
      },
      "source": [
        "!python src/model/gru4rec.py --epochs 200 --train-path ./data/train_64.tsv --dev-path ./data/validation.tsv --test-path ./data/test.tsv"
      ],
      "execution_count": 10,
      "outputs": [
        {
          "output_type": "stream",
          "name": "stdout",
          "text": [
            "/usr/local/lib/python3.7/dist-packages/keras/optimizer_v2/optimizer_v2.py:356: UserWarning: The `lr` argument is deprecated, use `learning_rate` instead.\n",
            "  \"The `lr` argument is deprecated, use `learning_rate` instead.\")\n",
            "Model: \"model\"\n",
            "_________________________________________________________________\n",
            "Layer (type)                 Output Shape              Param #   \n",
            "=================================================================\n",
            "input_1 (InputLayer)         [(512, 1, 8725)]          0         \n",
            "_________________________________________________________________\n",
            "GRU (GRU)                    [(512, 100), (512, 100)]  2648100   \n",
            "_________________________________________________________________\n",
            "dropout (Dropout)            (512, 100)                0         \n",
            "_________________________________________________________________\n",
            "dense (Dense)                (512, 8725)               881225    \n",
            "=================================================================\n",
            "Total params: 3,529,325\n",
            "Trainable params: 3,529,325\n",
            "Non-trainable params: 0\n",
            "_________________________________________________________________\n",
            "Epoch 1. Loss: 8.36917:  97% 16929/17451 [00:14<00:00, 1165.76it/s]\n",
            "Epoch 2. Loss: 7.92535:  97% 16929/17451 [00:08<00:00, 2020.79it/s]\n",
            "Epoch 3. Loss: 7.65331:  97% 16929/17451 [00:08<00:00, 2022.67it/s]\n",
            "Epoch 4. Loss: 7.46661:  97% 16929/17451 [00:08<00:00, 2049.30it/s]\n",
            "Epoch 5. Loss: 7.33196:  97% 16929/17451 [00:08<00:00, 2043.38it/s]\n",
            "Epoch 6. Loss: 7.21931:  97% 16929/17451 [00:08<00:00, 2031.98it/s]\n",
            "Epoch 7. Loss: 7.09287:  97% 16929/17451 [00:08<00:00, 2050.80it/s]\n",
            "Epoch 8. Loss: 6.92801:  97% 16929/17451 [00:08<00:00, 2025.89it/s]\n",
            "Epoch 9. Loss: 6.72677:  97% 16929/17451 [00:08<00:00, 2050.83it/s]\n",
            "Epoch 10. Loss: 6.53894:  97% 16929/17451 [00:08<00:00, 2063.82it/s]\n",
            "Epoch 11. Loss: 6.35434:  97% 16929/17451 [00:08<00:00, 2048.76it/s]\n",
            "Epoch 12. Loss: 6.17893:  97% 16929/17451 [00:08<00:00, 2018.88it/s]\n",
            "Epoch 13. Loss: 5.96852:  97% 16929/17451 [00:08<00:00, 2036.51it/s]\n",
            "Epoch 14. Loss: 5.82240:  97% 16929/17451 [00:08<00:00, 2018.33it/s]\n",
            "Epoch 15. Loss: 5.65121:  97% 16929/17451 [00:08<00:00, 2036.61it/s]\n",
            "Epoch 16. Loss: 5.49150:  97% 16929/17451 [00:08<00:00, 2018.32it/s]\n",
            "Epoch 17. Loss: 5.34306:  97% 16929/17451 [00:08<00:00, 2048.67it/s]\n",
            "Epoch 18. Loss: 5.19903:  97% 16929/17451 [00:08<00:00, 2035.69it/s]\n",
            "Epoch 19. Loss: 5.07607:  97% 16929/17451 [00:08<00:00, 2035.01it/s]\n",
            "Epoch 20. Loss: 4.93371:  97% 16929/17451 [00:08<00:00, 2011.99it/s]\n",
            "Epoch 21. Loss: 4.79199:  97% 16929/17451 [00:08<00:00, 2041.79it/s]\n",
            "Epoch 22. Loss: 4.65447:  97% 16929/17451 [00:08<00:00, 2046.76it/s]\n",
            "Epoch 23. Loss: 4.54207:  97% 16929/17451 [00:08<00:00, 2050.06it/s]\n",
            "Epoch 24. Loss: 4.42829:  97% 16929/17451 [00:08<00:00, 2059.72it/s]\n",
            "Epoch 25. Loss: 4.28687:  97% 16929/17451 [00:08<00:00, 2071.92it/s]\n",
            "Epoch 26. Loss: 4.12741:  97% 16929/17451 [00:08<00:00, 2058.22it/s]\n",
            "Epoch 27. Loss: 4.02922:  97% 16929/17451 [00:08<00:00, 2028.41it/s]\n",
            "Epoch 28. Loss: 3.93224:  97% 16929/17451 [00:08<00:00, 2020.53it/s]\n",
            "Epoch 29. Loss: 3.86026:  97% 16929/17451 [00:08<00:00, 2026.51it/s]\n",
            "Epoch 30. Loss: 3.72606:  97% 16929/17451 [00:08<00:00, 2045.18it/s]\n",
            "Epoch 31. Loss: 3.66549:  97% 16929/17451 [00:08<00:00, 2045.13it/s]\n",
            "Epoch 32. Loss: 3.52943:  97% 16929/17451 [00:08<00:00, 2054.98it/s]\n",
            "Epoch 33. Loss: 3.47180:  97% 16929/17451 [00:08<00:00, 2047.08it/s]\n",
            "Epoch 34. Loss: 3.36217:  97% 16929/17451 [00:08<00:00, 2046.38it/s]\n",
            "Epoch 35. Loss: 3.30992:  97% 16929/17451 [00:08<00:00, 2052.34it/s]\n",
            "Epoch 36. Loss: 3.25544:  97% 16929/17451 [00:08<00:00, 2053.39it/s]\n",
            "Epoch 37. Loss: 3.18098:  97% 16929/17451 [00:08<00:00, 2046.34it/s]\n",
            "Epoch 38. Loss: 3.06053:  97% 16929/17451 [00:08<00:00, 2047.89it/s]\n",
            "Epoch 39. Loss: 3.03775:  97% 16929/17451 [00:08<00:00, 2045.84it/s]\n",
            "Epoch 40. Loss: 2.94338:  97% 16929/17451 [00:08<00:00, 2044.22it/s]\n",
            "Epoch 41. Loss: 2.85214:  97% 16929/17451 [00:08<00:00, 2034.83it/s]\n",
            "Epoch 42. Loss: 2.83121:  97% 16929/17451 [00:08<00:00, 2043.16it/s]\n",
            "Epoch 43. Loss: 2.78998:  97% 16929/17451 [00:08<00:00, 2055.03it/s]\n",
            "Epoch 44. Loss: 2.73338:  97% 16929/17451 [00:08<00:00, 2046.92it/s]\n",
            "Epoch 45. Loss: 2.70382:  97% 16929/17451 [00:08<00:00, 2077.06it/s]\n",
            "Epoch 46. Loss: 2.62706:  97% 16929/17451 [00:08<00:00, 2060.47it/s]\n",
            "Epoch 47. Loss: 2.57546:  97% 16929/17451 [00:08<00:00, 2059.98it/s]\n",
            "Epoch 48. Loss: 2.50720:  97% 16929/17451 [00:08<00:00, 2059.17it/s]\n",
            "Epoch 49. Loss: 2.49795:  97% 16929/17451 [00:08<00:00, 2054.49it/s]\n",
            "Epoch 50. Loss: 2.46450:  97% 16929/17451 [00:08<00:00, 2075.01it/s]\n",
            "Epoch 51. Loss: 2.45232:  97% 16929/17451 [00:08<00:00, 2037.75it/s]\n",
            "Epoch 52. Loss: 2.38144:  97% 16929/17451 [00:08<00:00, 2070.36it/s]\n",
            "Epoch 53. Loss: 2.38848:  97% 16929/17451 [00:08<00:00, 2071.59it/s]\n",
            "Epoch 54. Loss: 2.42182:  97% 16929/17451 [00:08<00:00, 2065.12it/s]\n",
            "Epoch 55. Loss: 2.33406:  97% 16929/17451 [00:08<00:00, 2041.06it/s]\n",
            "Epoch 56. Loss: 2.33622:  97% 16929/17451 [00:08<00:00, 2045.59it/s]\n",
            "Epoch 57. Loss: 2.29887:  97% 16929/17451 [00:08<00:00, 2055.04it/s]\n",
            "Epoch 58. Loss: 2.25938:  97% 16929/17451 [00:08<00:00, 2082.64it/s]\n",
            "Epoch 59. Loss: 2.23978:  97% 16929/17451 [00:08<00:00, 2061.31it/s]\n",
            "Epoch 60. Loss: 2.28366:  97% 16929/17451 [00:08<00:00, 2071.94it/s]\n",
            "Epoch 61. Loss: 2.19268:  97% 16929/17451 [00:08<00:00, 2087.93it/s]\n",
            "Epoch 62. Loss: 2.23189:  97% 16929/17451 [00:08<00:00, 2080.56it/s]\n",
            "Epoch 63. Loss: 2.17744:  97% 16929/17451 [00:08<00:00, 2071.13it/s]\n",
            "Epoch 64. Loss: 2.21287:  97% 16929/17451 [00:08<00:00, 2066.90it/s]\n",
            "Epoch 65. Loss: 2.18825:  97% 16929/17451 [00:08<00:00, 2086.72it/s]\n",
            "Epoch 66. Loss: 2.13750:  97% 16929/17451 [00:08<00:00, 2079.47it/s]\n",
            "Epoch 67. Loss: 2.14830:  97% 16929/17451 [00:08<00:00, 2076.78it/s]\n",
            "Epoch 68. Loss: 2.11856:  97% 16929/17451 [00:08<00:00, 2068.81it/s]\n",
            "Epoch 69. Loss: 2.09781:  97% 16929/17451 [00:08<00:00, 2054.17it/s]\n",
            "Epoch 70. Loss: 2.08967:  97% 16929/17451 [00:08<00:00, 2081.47it/s]\n",
            "Epoch 71. Loss: 2.12541:  97% 16929/17451 [00:08<00:00, 2074.77it/s]\n",
            "Epoch 72. Loss: 2.14644:  97% 16929/17451 [00:08<00:00, 2051.17it/s]\n",
            "Epoch 73. Loss: 2.06987:  97% 16929/17451 [00:08<00:00, 2067.02it/s]\n",
            "Epoch 74. Loss: 2.08121:  97% 16929/17451 [00:08<00:00, 2064.18it/s]\n",
            "Epoch 75. Loss: 2.05238:  97% 16929/17451 [00:08<00:00, 2067.61it/s]\n",
            "Epoch 76. Loss: 2.01783:  97% 16929/17451 [00:08<00:00, 2067.81it/s]\n",
            "Epoch 77. Loss: 2.02580:  97% 16929/17451 [00:08<00:00, 2083.19it/s]\n",
            "Epoch 78. Loss: 2.02110:  97% 16929/17451 [00:08<00:00, 2067.78it/s]\n",
            "Epoch 79. Loss: 2.04253:  97% 16929/17451 [00:08<00:00, 2056.99it/s]\n",
            "Epoch 80. Loss: 1.99786:  97% 16929/17451 [00:08<00:00, 2074.49it/s]\n",
            "Epoch 81. Loss: 1.99656:  97% 16929/17451 [00:08<00:00, 2062.25it/s]\n",
            "Epoch 82. Loss: 2.00138:  97% 16929/17451 [00:08<00:00, 2079.49it/s]\n",
            "Epoch 83. Loss: 1.99020:  97% 16929/17451 [00:08<00:00, 2083.91it/s]\n",
            "Epoch 84. Loss: 1.93568:  97% 16929/17451 [00:08<00:00, 2070.27it/s]\n",
            "Epoch 85. Loss: 1.99579:  97% 16929/17451 [00:08<00:00, 2069.39it/s]\n",
            "Epoch 86. Loss: 1.95930:  97% 16929/17451 [00:08<00:00, 2055.08it/s]\n",
            "Epoch 87. Loss: 1.99783:  97% 16929/17451 [00:08<00:00, 2049.03it/s]\n",
            "Epoch 88. Loss: 1.90652:  97% 16929/17451 [00:08<00:00, 2045.32it/s]\n",
            "Epoch 89. Loss: 1.92367:  97% 16929/17451 [00:08<00:00, 2034.63it/s]\n",
            "Epoch 90. Loss: 1.90558:  97% 16929/17451 [00:08<00:00, 2036.21it/s]\n",
            "Epoch 91. Loss: 1.94559:  97% 16929/17451 [00:08<00:00, 2048.50it/s]\n",
            "Epoch 92. Loss: 1.90998:  97% 16929/17451 [00:08<00:00, 2036.62it/s]\n",
            "Epoch 93. Loss: 1.95409:  97% 16929/17451 [00:08<00:00, 2022.98it/s]\n",
            "Epoch 94. Loss: 1.88266:  97% 16929/17451 [00:08<00:00, 2031.01it/s]\n",
            "Epoch 95. Loss: 1.87388:  97% 16929/17451 [00:08<00:00, 2035.48it/s]\n",
            "Epoch 96. Loss: 1.93649:  97% 16929/17451 [00:08<00:00, 1988.59it/s]\n",
            "Epoch 97. Loss: 1.86429:  97% 16929/17451 [00:08<00:00, 2031.75it/s]\n",
            "Epoch 98. Loss: 1.85329:  97% 16929/17451 [00:08<00:00, 2030.28it/s]\n",
            "Epoch 99. Loss: 1.85493:  97% 16929/17451 [00:08<00:00, 2006.58it/s]\n",
            "Epoch 100. Loss: 1.86437:  97% 16929/17451 [00:08<00:00, 2016.59it/s]\n",
            "Epoch 101. Loss: 1.81339:  97% 16929/17451 [00:08<00:00, 2040.40it/s]\n",
            "Epoch 102. Loss: 1.89222:  97% 16929/17451 [00:08<00:00, 2040.57it/s]\n",
            "Epoch 103. Loss: 1.85223:  97% 16929/17451 [00:08<00:00, 1965.90it/s]\n",
            "Epoch 104. Loss: 1.83551:  97% 16929/17451 [00:08<00:00, 2058.54it/s]\n",
            "Epoch 105. Loss: 1.78815:  97% 16929/17451 [00:08<00:00, 2060.95it/s]\n",
            "Epoch 106. Loss: 1.83623:  97% 16929/17451 [00:08<00:00, 2037.44it/s]\n",
            "Epoch 107. Loss: 1.78300:  97% 16929/17451 [00:08<00:00, 2036.45it/s]\n",
            "Epoch 108. Loss: 1.80266:  97% 16929/17451 [00:08<00:00, 2066.06it/s]\n",
            "Epoch 109. Loss: 1.87047:  97% 16929/17451 [00:08<00:00, 2040.52it/s]\n",
            "Epoch 110. Loss: 1.85212:  97% 16929/17451 [00:08<00:00, 2067.82it/s]\n",
            "Epoch 111. Loss: 1.77762:  97% 16929/17451 [00:08<00:00, 2069.97it/s]\n",
            "Epoch 112. Loss: 1.84161:  97% 16929/17451 [00:08<00:00, 2054.47it/s]\n",
            "Epoch 113. Loss: 1.81534:  97% 16929/17451 [00:08<00:00, 2053.13it/s]\n",
            "Epoch 114. Loss: 1.76643:  97% 16929/17451 [00:08<00:00, 2059.09it/s]\n",
            "Epoch 115. Loss: 1.79561:  97% 16929/17451 [00:08<00:00, 2036.51it/s]\n",
            "Epoch 116. Loss: 1.78334:  97% 16929/17451 [00:08<00:00, 2042.86it/s]\n",
            "Epoch 117. Loss: 1.78310:  97% 16929/17451 [00:08<00:00, 2030.62it/s]\n",
            "Epoch 118. Loss: 1.75987:  97% 16929/17451 [00:08<00:00, 2058.84it/s]\n",
            "Epoch 119. Loss: 1.77388:  97% 16929/17451 [00:08<00:00, 2028.27it/s]\n",
            "Epoch 120. Loss: 1.81018:  97% 16929/17451 [00:08<00:00, 2054.21it/s]\n",
            "Epoch 121. Loss: 1.77323:  97% 16929/17451 [00:08<00:00, 1969.75it/s]\n",
            "Epoch 122. Loss: 1.78798:  97% 16929/17451 [00:08<00:00, 2039.12it/s]\n",
            "Epoch 123. Loss: 1.76270:  97% 16929/17451 [00:08<00:00, 2031.59it/s]\n",
            "Epoch 124. Loss: 1.73290:  97% 16929/17451 [00:08<00:00, 2039.45it/s]\n",
            "Epoch 125. Loss: 1.71632:  97% 16929/17451 [00:08<00:00, 2003.37it/s]\n",
            "Epoch 126. Loss: 1.72384:  97% 16929/17451 [00:08<00:00, 2006.25it/s]\n",
            "Epoch 127. Loss: 1.71859:  97% 16929/17451 [00:08<00:00, 2005.44it/s]\n",
            "Epoch 128. Loss: 1.72916:  97% 16929/17451 [00:08<00:00, 2024.38it/s]\n",
            "Epoch 129. Loss: 1.79312:  97% 16929/17451 [00:08<00:00, 2031.37it/s]\n",
            "Epoch 130. Loss: 1.75838:  97% 16929/17451 [00:08<00:00, 2053.09it/s]\n",
            "Epoch 131. Loss: 1.75892:  97% 16929/17451 [00:08<00:00, 2024.67it/s]\n",
            "Epoch 132. Loss: 1.71023:  97% 16929/17451 [00:08<00:00, 2018.12it/s]\n",
            "Epoch 133. Loss: 1.68105:  97% 16929/17451 [00:08<00:00, 2023.16it/s]\n",
            "Epoch 134. Loss: 1.73961:  97% 16929/17451 [00:08<00:00, 2009.06it/s]\n",
            "Epoch 135. Loss: 1.76876:  97% 16929/17451 [00:08<00:00, 2007.91it/s]\n",
            "Epoch 136. Loss: 1.71651:  97% 16929/17451 [00:08<00:00, 2024.13it/s]\n",
            "Epoch 137. Loss: 1.72234:  97% 16929/17451 [00:08<00:00, 2009.11it/s]\n",
            "Epoch 138. Loss: 1.70417:  97% 16929/17451 [00:08<00:00, 2009.23it/s]\n",
            "Epoch 139. Loss: 1.72765:  97% 16929/17451 [00:08<00:00, 2000.86it/s]\n",
            "Epoch 140. Loss: 1.71305:  97% 16929/17451 [00:08<00:00, 2006.53it/s]\n",
            "Epoch 141. Loss: 1.72761:  97% 16929/17451 [00:08<00:00, 2028.68it/s]\n",
            "Epoch 142. Loss: 1.73592:  97% 16929/17451 [00:08<00:00, 2011.76it/s]\n",
            "Epoch 143. Loss: 1.68073:  97% 16929/17451 [00:08<00:00, 2010.64it/s]\n",
            "Epoch 144. Loss: 1.69922:  97% 16929/17451 [00:08<00:00, 2010.04it/s]\n",
            "Epoch 145. Loss: 1.68341:  97% 16929/17451 [00:08<00:00, 1987.92it/s]\n",
            "Epoch 146. Loss: 1.66748:  97% 16929/17451 [00:08<00:00, 1983.85it/s]\n",
            "Epoch 147. Loss: 1.69966:  97% 16929/17451 [00:08<00:00, 2002.62it/s]\n",
            "Epoch 148. Loss: 1.68706:  97% 16929/17451 [00:08<00:00, 2009.93it/s]\n",
            "Epoch 149. Loss: 1.67024:  97% 16929/17451 [00:08<00:00, 1983.55it/s]\n",
            "Epoch 150. Loss: 1.68876:  97% 16929/17451 [00:08<00:00, 1994.26it/s]\n",
            "Epoch 151. Loss: 1.67555:  97% 16929/17451 [00:08<00:00, 1982.51it/s]\n",
            "Epoch 152. Loss: 1.59774:  97% 16929/17451 [00:08<00:00, 2026.95it/s]\n",
            "Epoch 153. Loss: 1.69889:  97% 16929/17451 [00:08<00:00, 2036.79it/s]\n",
            "Epoch 154. Loss: 1.69334:  97% 16929/17451 [00:08<00:00, 2009.99it/s]\n",
            "Epoch 155. Loss: 1.66781:  97% 16929/17451 [00:08<00:00, 2008.54it/s]\n",
            "Epoch 156. Loss: 1.64873:  97% 16929/17451 [00:08<00:00, 1994.19it/s]\n",
            "Epoch 157. Loss: 1.66331:  97% 16929/17451 [00:08<00:00, 1993.05it/s]\n",
            "Epoch 158. Loss: 1.67409:  97% 16929/17451 [00:08<00:00, 1994.53it/s]\n",
            "Epoch 159. Loss: 1.59074:  97% 16929/17451 [00:08<00:00, 1992.92it/s]\n",
            "Epoch 160. Loss: 1.65209:  97% 16929/17451 [00:08<00:00, 2000.07it/s]\n",
            "Epoch 161. Loss: 1.64368:  97% 16929/17451 [00:08<00:00, 1994.11it/s]\n",
            "Epoch 162. Loss: 1.66849:  97% 16929/17451 [00:08<00:00, 1995.76it/s]\n",
            "Epoch 163. Loss: 1.63141:  97% 16929/17451 [00:08<00:00, 1988.08it/s]\n",
            "Epoch 164. Loss: 1.58679:  97% 16929/17451 [00:08<00:00, 1995.90it/s]\n",
            "Epoch 165. Loss: 1.62226:  97% 16929/17451 [00:08<00:00, 1977.50it/s]\n",
            "Epoch 166. Loss: 1.68043:  97% 16929/17451 [00:08<00:00, 1998.85it/s]\n",
            "Epoch 167. Loss: 1.63040:  97% 16929/17451 [00:08<00:00, 1983.43it/s]\n",
            "Epoch 168. Loss: 1.61661:  97% 16929/17451 [00:08<00:00, 1991.87it/s]\n",
            "Epoch 169. Loss: 1.60786:  97% 16929/17451 [00:08<00:00, 2022.81it/s]\n",
            "Epoch 170. Loss: 1.61423:  97% 16929/17451 [00:08<00:00, 2006.48it/s]\n",
            "Epoch 171. Loss: 1.64636:  97% 16929/17451 [00:08<00:00, 2017.80it/s]\n",
            "Epoch 172. Loss: 1.61991:  97% 16929/17451 [00:08<00:00, 2019.23it/s]\n",
            "Epoch 173. Loss: 1.54089:  97% 16929/17451 [00:08<00:00, 2025.74it/s]\n",
            "Epoch 174. Loss: 1.61516:  97% 16929/17451 [00:08<00:00, 2014.46it/s]\n",
            "Epoch 175. Loss: 1.57722:  97% 16929/17451 [00:08<00:00, 2018.82it/s]\n",
            "Epoch 176. Loss: 1.59799:  97% 16929/17451 [00:08<00:00, 2016.55it/s]\n",
            "Epoch 177. Loss: 1.60741:  97% 16929/17451 [00:08<00:00, 2000.18it/s]\n",
            "Epoch 178. Loss: 1.58690:  97% 16929/17451 [00:08<00:00, 1996.64it/s]\n",
            "Epoch 179. Loss: 1.56959:  97% 16929/17451 [00:08<00:00, 1990.58it/s]\n",
            "Epoch 180. Loss: 1.55065:  97% 16929/17451 [00:08<00:00, 1992.90it/s]\n",
            "Epoch 181. Loss: 1.61087:  97% 16929/17451 [00:08<00:00, 2022.19it/s]\n",
            "Epoch 182. Loss: 1.60974:  97% 16929/17451 [00:08<00:00, 2018.17it/s]\n",
            "Epoch 183. Loss: 1.58874:  97% 16929/17451 [00:08<00:00, 2024.85it/s]\n",
            "Epoch 184. Loss: 1.59787:  97% 16929/17451 [00:08<00:00, 2026.80it/s]\n",
            "Epoch 185. Loss: 1.60112:  97% 16929/17451 [00:08<00:00, 2018.06it/s]\n",
            "Epoch 186. Loss: 1.53024:  97% 16929/17451 [00:08<00:00, 2009.03it/s]\n",
            "Epoch 187. Loss: 1.56592:  97% 16929/17451 [00:08<00:00, 2017.88it/s]\n",
            "Epoch 188. Loss: 1.62846:  97% 16929/17451 [00:08<00:00, 2029.47it/s]\n",
            "Epoch 189. Loss: 1.53801:  97% 16929/17451 [00:08<00:00, 2028.77it/s]\n",
            "Epoch 190. Loss: 1.65013:  97% 16929/17451 [00:08<00:00, 2003.13it/s]\n",
            "Epoch 191. Loss: 1.60198:  97% 16929/17451 [00:08<00:00, 2032.23it/s]\n",
            "Epoch 192. Loss: 1.52903:  97% 16929/17451 [00:08<00:00, 2012.67it/s]\n",
            "Epoch 193. Loss: 1.56073:  97% 16929/17451 [00:08<00:00, 2014.76it/s]\n",
            "Epoch 194. Loss: 1.58111:  97% 16929/17451 [00:08<00:00, 2029.49it/s]\n",
            "Epoch 195. Loss: 1.51813:  97% 16929/17451 [00:08<00:00, 2020.06it/s]\n",
            "Epoch 196. Loss: 1.52370:  97% 16929/17451 [00:08<00:00, 2030.35it/s]\n",
            "Epoch 197. Loss: 1.52591:  97% 16929/17451 [00:08<00:00, 2026.40it/s]\n",
            "Epoch 198. Loss: 1.52894:  97% 16929/17451 [00:08<00:00, 2017.25it/s]\n",
            "Epoch 199. Loss: 1.51894:  97% 16929/17451 [00:08<00:00, 2020.34it/s]\n",
            "Evaluating model...\n",
            "\t - Recall@20 epoch 200: 0.461695\n",
            "\t - MRR@20    epoch 200: 0.163403\n",
            "\n"
          ]
        }
      ]
    },
    {
      "cell_type": "markdown",
      "metadata": {
        "id": "tk9EgsON-8Sr"
      },
      "source": [
        "## Resultados\n",
        "\n",
        "Luego de 200 épocas, deberías obtener un desempeño similar al siguiente:\n",
        "\n",
        "\t - Recall@20: 0.47\n",
        "\t - MRR@20   : 0.16\n",
        "\n",
        "\n",
        "Para replicar resultados del paper, utiliza el set de entrenamiento completo"
      ]
    },
    {
      "cell_type": "markdown",
      "metadata": {
        "id": "njfQIzqi_KK8"
      },
      "source": [
        "## Aprovechando información implícita: Dwell Time\n",
        "\n",
        "Podemos utilizar el tiempo que cada item fue visitado por cada usuario para realizar mejores recomendaciones.\n",
        "\n",
        "El supuesto es: a mayor tiempo de permanencia (dwell time) en un item, más interesado está el usuario en dicho item.\n",
        "\n",
        "Se hará item boosting en el set de entrenamiento."
      ]
    },
    {
      "cell_type": "code",
      "metadata": {
        "id": "lh9fruDcuVYg"
      },
      "source": [
        "def preprocess_df(df):    \n",
        "    n_items = len(df['ItemId'].unique())\n",
        "    aux = list(df['ItemId'].unique())\n",
        "    itemids = np.array(aux)\n",
        "    itemidmap = pd.Series(data=np.arange(n_items), index=itemids)  # (id_item => (0, n_items))\n",
        "    \n",
        "    item_key = 'ItemId'\n",
        "    session_key = 'SessionId'\n",
        "    time_key = 'Time'\n",
        "    \n",
        "    data = pd.merge(df, pd.DataFrame({item_key:itemids, 'ItemIdx':itemidmap[itemids].values}), on=item_key, how='inner')\n",
        "    data.sort_values([session_key, time_key], inplace=True)\n",
        "\n",
        "    length = len(data['ItemId'])\n",
        "        \n",
        "    return data"
      ],
      "execution_count": 11,
      "outputs": []
    },
    {
      "cell_type": "code",
      "metadata": {
        "id": "j5O-1YDR_vNY"
      },
      "source": [
        "def compute_dwell_time(df):\n",
        "    times_t = np.roll(df['Time'], -1) # Take time row\n",
        "    times_dt  = df['Time']            # Copy, then displace by one\n",
        "    diffs = np.subtract(times_t, times_dt) # Take pairwise difference\n",
        "    length = len(df['ItemId'])\n",
        "    \n",
        "    # cummulative offset start for each session\n",
        "    offset_sessions = np.zeros(df['SessionId'].nunique()+1, dtype=np.int32)\n",
        "    offset_sessions[1:] = df.groupby('SessionId').size().cumsum() \n",
        "    offset_sessions = offset_sessions - 1\n",
        "    offset_sessions = np.roll(offset_sessions, -1)\n",
        "    \n",
        "    np.put(diffs.values, offset_sessions, np.zeros((offset_sessions.shape)), mode='raise')\n",
        "\n",
        "    return diffs"
      ],
      "execution_count": 12,
      "outputs": []
    },
    {
      "cell_type": "code",
      "metadata": {
        "id": "7vFvOPH9Bfeq"
      },
      "source": [
        "def get_distribution(dts):\n",
        "    filtered = np.array(list(filter(lambda x: int(x) != 0, dts)))\n",
        "    pd_dts = pd.DataFrame(filtered)\n",
        "    pd_dts.boxplot(vert=False, showfliers=False)\n",
        "    plt.xlabel(\"Seconds\")\n",
        "    plt.yticks([])\n",
        "    plt.title(\"Dwell time distribution for RSC15 dataset\")\n",
        "    plt.show()\n",
        "    pd_dts.describe()"
      ],
      "execution_count": 13,
      "outputs": []
    },
    {
      "cell_type": "code",
      "metadata": {
        "id": "pPxWD0xPBfVE"
      },
      "source": [
        "def join_dwell_reps(df, dt, threshold=2000):\n",
        "    # Calculate d_ti/threshold + 1 then add column to dataFrame\n",
        "    dt //= threshold\n",
        "    dt += 1   \n",
        "    df['DwellReps'] = pd.Series(dt.astype(np.int64), index=dt.index)"
      ],
      "execution_count": 14,
      "outputs": []
    },
    {
      "cell_type": "code",
      "metadata": {
        "id": "jYX1RjhQ_wZG"
      },
      "source": [
        "def augment(df):    \n",
        "    col_names = list(df.columns.values)[:3]\n",
        "    augmented = np.repeat(df.values, df['DwellReps'], axis=0) \n",
        "    augmented = pd.DataFrame(data=augmented[:,:3],\n",
        "                             columns=col_names)\n",
        "    dtype = {'SessionId': np.int64, \n",
        "             'ItemId': np.int64, \n",
        "             'Time': np.float32}\n",
        "    \n",
        "    for k, v in dtype.items():\n",
        "        augmented[k] = augmented[k].astype(v)                  \n",
        "    \n",
        "    return augmented"
      ],
      "execution_count": 15,
      "outputs": []
    },
    {
      "cell_type": "code",
      "metadata": {
        "id": "veILDG2X_yJm"
      },
      "source": [
        "new_df = preprocess_df(train)\n",
        "dts = compute_dwell_time(new_df)"
      ],
      "execution_count": 16,
      "outputs": []
    },
    {
      "cell_type": "code",
      "metadata": {
        "id": "7xIJMF5aABmF",
        "colab": {
          "base_uri": "https://localhost:8080/",
          "height": 295
        },
        "outputId": "78882b84-f291-4d9c-ad2b-0168484bb6a0"
      },
      "source": [
        "# Visualize\n",
        "get_distribution(dts)"
      ],
      "execution_count": 17,
      "outputs": [
        {
          "output_type": "display_data",
          "data": {
            "image/png": "[encoded data removed]",
            "text/plain": [
              "<Figure size 432x288 with 1 Axes>"
            ]
          },
          "metadata": {
            "needs_background": "light"
          }
        }
      ]
    },
    {
      "cell_type": "code",
      "metadata": {
        "id": "Y4mZ3YB0Ai4q"
      },
      "source": [
        "# threshold is a hyperparameter\n",
        "join_dwell_reps(new_df, dts, threshold=75)\n",
        "\n",
        "# augment the sessions copying each entry an additional (dwellReps[i]-1) times\n",
        "df_aug = augment(new_df)\n",
        "df_aug.to_csv(\"./data/augmented_train.csv\", index=False, sep='\\t')"
      ],
      "execution_count": 18,
      "outputs": []
    },
    {
      "cell_type": "code",
      "metadata": {
        "id": "X1N36STyCrrs",
        "colab": {
          "base_uri": "https://localhost:8080/"
        },
        "outputId": "3a647f7c-b4da-49a6-af09-195f384a5402"
      },
      "source": [
        "# retrieve 1/n most recent fraction for demo purposes \n",
        "# (note it is a smaller fraction due to the inflation process)\n",
        "fraction = 64*7\n",
        "train_fraction(df_aug, fraction, prefix='aug_train')"
      ],
      "execution_count": 19,
      "outputs": [
        {
          "output_type": "stream",
          "name": "stdout",
          "text": [
            "Fractioned data set\n",
            "\tEvents: 151923\n",
            "\tSessions: 16351\n",
            "\tItems: 8484\n",
            "Saved as ./data/aug_train_448.tsv\n"
          ]
        }
      ]
    },
    {
      "cell_type": "markdown",
      "metadata": {
        "id": "v2E2q1ArD5Sr"
      },
      "source": [
        "## Entrenamiento con Dwell Time"
      ]
    },
    {
      "cell_type": "code",
      "metadata": {
        "id": "HNq8lpRADWZ2",
        "colab": {
          "base_uri": "https://localhost:8080/"
        },
        "outputId": "968e0506-9522-451b-bbbc-dcc0531920b0"
      },
      "source": [
        "!python src/model/gru4rec.py --epochs 200 --train-path ./data/aug_train_448.tsv --dev-path ./data/validation.tsv --test-path ./data/test.tsv"
      ],
      "execution_count": 20,
      "outputs": [
        {
          "output_type": "stream",
          "name": "stdout",
          "text": [
            "/usr/local/lib/python3.7/dist-packages/keras/optimizer_v2/optimizer_v2.py:356: UserWarning: The `lr` argument is deprecated, use `learning_rate` instead.\n",
            "  \"The `lr` argument is deprecated, use `learning_rate` instead.\")\n",
            "Model: \"model\"\n",
            "_________________________________________________________________\n",
            "Layer (type)                 Output Shape              Param #   \n",
            "=================================================================\n",
            "input_1 (InputLayer)         [(512, 1, 8485)]          0         \n",
            "_________________________________________________________________\n",
            "GRU (GRU)                    [(512, 100), (512, 100)]  2576100   \n",
            "_________________________________________________________________\n",
            "dropout (Dropout)            (512, 100)                0         \n",
            "_________________________________________________________________\n",
            "dense (Dense)                (512, 8485)               856985    \n",
            "=================================================================\n",
            "Total params: 3,433,085\n",
            "Trainable params: 3,433,085\n",
            "Non-trainable params: 0\n",
            "_________________________________________________________________\n",
            "Epoch 1. Loss: 7.72076:  97% 15835/16352 [00:26<00:00, 595.16it/s]\n",
            "Epoch 2. Loss: 6.98290:  97% 15835/16352 [00:20<00:00, 764.05it/s]\n",
            "Epoch 3. Loss: 6.19118:  97% 15835/16352 [00:20<00:00, 756.71it/s]\n",
            "Epoch 4. Loss: 5.33800:  97% 15835/16352 [00:20<00:00, 755.43it/s]\n",
            "Epoch 5. Loss: 4.68738:  97% 15835/16352 [00:21<00:00, 749.78it/s]\n",
            "Epoch 6. Loss: 4.15770:  97% 15835/16352 [00:20<00:00, 755.28it/s]\n",
            "Epoch 7. Loss: 3.70632:  97% 15835/16352 [00:21<00:00, 752.13it/s]\n",
            "Epoch 8. Loss: 3.41540:  97% 15835/16352 [00:20<00:00, 754.28it/s]\n",
            "Epoch 9. Loss: 3.15820:  97% 15835/16352 [00:21<00:00, 751.94it/s]\n",
            "Epoch 10. Loss: 2.93169:  97% 15835/16352 [00:21<00:00, 747.94it/s]\n",
            "Epoch 11. Loss: 2.78012:  97% 15835/16352 [00:21<00:00, 750.01it/s]\n",
            "Epoch 12. Loss: 2.64114:  97% 15835/16352 [00:21<00:00, 752.64it/s]\n",
            "Epoch 13. Loss: 2.53055:  97% 15835/16352 [00:20<00:00, 754.25it/s]\n",
            "Epoch 14. Loss: 2.37854:  97% 15835/16352 [00:21<00:00, 750.69it/s]\n",
            "Epoch 15. Loss: 2.26005:  97% 15835/16352 [00:21<00:00, 748.02it/s]\n",
            "Epoch 16. Loss: 2.16273:  97% 15835/16352 [00:21<00:00, 752.01it/s]\n",
            "Epoch 17. Loss: 2.12299:  97% 15835/16352 [00:21<00:00, 753.16it/s]\n",
            "Epoch 18. Loss: 2.05838:  97% 15835/16352 [00:20<00:00, 759.25it/s]\n",
            "Epoch 19. Loss: 1.94471:  97% 15835/16352 [00:20<00:00, 757.99it/s]\n",
            "Epoch 20. Loss: 1.87699:  97% 15835/16352 [00:20<00:00, 761.05it/s]\n",
            "Epoch 21. Loss: 1.81721:  97% 15835/16352 [00:21<00:00, 753.43it/s]\n",
            "Epoch 22. Loss: 1.76144:  97% 15835/16352 [00:21<00:00, 749.38it/s]\n",
            "Epoch 23. Loss: 1.71861:  97% 15835/16352 [00:20<00:00, 757.52it/s]\n",
            "Epoch 24. Loss: 1.67679:  97% 15835/16352 [00:20<00:00, 763.73it/s]\n",
            "Epoch 25. Loss: 1.67684:  97% 15835/16352 [00:20<00:00, 754.38it/s]\n",
            "Epoch 26. Loss: 1.66032:  97% 15835/16352 [00:20<00:00, 763.48it/s]\n",
            "Epoch 27. Loss: 1.56975:  97% 15835/16352 [00:20<00:00, 760.35it/s]\n",
            "Epoch 28. Loss: 1.55647:  97% 15835/16352 [00:20<00:00, 763.82it/s]\n",
            "Epoch 29. Loss: 1.52527:  97% 15835/16352 [00:20<00:00, 764.28it/s]\n",
            "Epoch 30. Loss: 1.51559:  97% 15835/16352 [00:20<00:00, 764.56it/s]\n",
            "Epoch 31. Loss: 1.48276:  97% 15835/16352 [00:20<00:00, 763.97it/s]\n",
            "Epoch 32. Loss: 1.44663:  97% 15835/16352 [00:20<00:00, 765.29it/s]\n",
            "Epoch 33. Loss: 1.42580:  97% 15835/16352 [00:20<00:00, 762.13it/s]\n",
            "Epoch 34. Loss: 1.38562:  97% 15835/16352 [00:20<00:00, 763.40it/s]\n",
            "Epoch 35. Loss: 1.40729:  97% 15835/16352 [00:20<00:00, 765.40it/s]\n",
            "Epoch 36. Loss: 1.41005:  97% 15835/16352 [00:20<00:00, 764.26it/s]\n",
            "Epoch 37. Loss: 1.36103:  97% 15835/16352 [00:20<00:00, 766.64it/s]\n",
            "Epoch 38. Loss: 1.34914:  97% 15835/16352 [00:20<00:00, 768.17it/s]\n",
            "Epoch 39. Loss: 1.33287:  97% 15835/16352 [00:20<00:00, 767.56it/s]\n",
            "Epoch 40. Loss: 1.34008:  97% 15835/16352 [00:20<00:00, 765.80it/s]\n",
            "Epoch 41. Loss: 1.32728:  97% 15835/16352 [00:20<00:00, 768.03it/s]\n",
            "Epoch 42. Loss: 1.31841:  97% 15835/16352 [00:20<00:00, 766.11it/s]\n",
            "Epoch 43. Loss: 1.27311:  97% 15835/16352 [00:20<00:00, 761.48it/s]\n",
            "Epoch 44. Loss: 1.28182:  97% 15835/16352 [00:20<00:00, 766.82it/s]\n",
            "Epoch 45. Loss: 1.31471:  97% 15835/16352 [00:20<00:00, 762.70it/s]\n",
            "Epoch 46. Loss: 1.27266:  97% 15835/16352 [00:20<00:00, 768.03it/s]\n",
            "Epoch 47. Loss: 1.23374:  97% 15835/16352 [00:20<00:00, 764.02it/s]\n",
            "Epoch 48. Loss: 1.28333:  97% 15835/16352 [00:20<00:00, 758.40it/s]\n",
            "Epoch 49. Loss: 1.27733:  97% 15835/16352 [00:20<00:00, 761.34it/s]\n",
            "Epoch 50. Loss: 1.26226:  97% 15835/16352 [00:20<00:00, 767.62it/s]\n",
            "Epoch 51. Loss: 1.21361:  97% 15835/16352 [00:20<00:00, 759.52it/s]\n",
            "Epoch 52. Loss: 1.18477:  97% 15835/16352 [00:20<00:00, 764.00it/s]\n",
            "Epoch 53. Loss: 1.20877:  97% 15835/16352 [00:20<00:00, 765.86it/s]\n",
            "Epoch 54. Loss: 1.21732:  97% 15835/16352 [00:20<00:00, 759.87it/s]\n",
            "Epoch 55. Loss: 1.19515:  97% 15835/16352 [00:20<00:00, 766.37it/s]\n",
            "Epoch 56. Loss: 1.23681:  97% 15835/16352 [00:20<00:00, 766.50it/s]\n",
            "Epoch 57. Loss: 1.22720:  97% 15835/16352 [00:20<00:00, 760.39it/s]\n",
            "Epoch 58. Loss: 1.19764:  97% 15835/16352 [00:20<00:00, 767.64it/s]\n",
            "Epoch 59. Loss: 1.19359:  97% 15835/16352 [00:20<00:00, 765.86it/s]\n",
            "Epoch 60. Loss: 1.14176:  97% 15835/16352 [00:20<00:00, 760.48it/s]\n",
            "Epoch 61. Loss: 1.16846:  97% 15835/16352 [00:20<00:00, 770.60it/s]\n",
            "Epoch 62. Loss: 1.15933:  97% 15835/16352 [00:20<00:00, 769.61it/s]\n",
            "Epoch 63. Loss: 1.15162:  97% 15835/16352 [00:20<00:00, 765.24it/s]\n",
            "Epoch 64. Loss: 1.12385:  97% 15835/16352 [00:20<00:00, 771.55it/s]\n",
            "Epoch 65. Loss: 1.13272:  97% 15835/16352 [00:20<00:00, 770.03it/s]\n",
            "Epoch 66. Loss: 1.12492:  97% 15835/16352 [00:20<00:00, 769.52it/s]\n",
            "Epoch 67. Loss: 1.14895:  97% 15835/16352 [00:20<00:00, 765.51it/s]\n",
            "Epoch 68. Loss: 1.11688:  97% 15835/16352 [00:20<00:00, 764.13it/s]\n",
            "Epoch 69. Loss: 1.13572:  97% 15835/16352 [00:20<00:00, 763.40it/s]\n",
            "Epoch 70. Loss: 1.14215:  97% 15835/16352 [00:20<00:00, 769.66it/s]\n",
            "Epoch 71. Loss: 1.19580:  97% 15835/16352 [00:20<00:00, 770.74it/s]\n",
            "Epoch 72. Loss: 1.11552:  97% 15835/16352 [00:20<00:00, 764.74it/s]\n",
            "Epoch 73. Loss: 1.12016:  97% 15835/16352 [00:20<00:00, 772.00it/s]\n",
            "Epoch 74. Loss: 1.08983:  97% 15835/16352 [00:20<00:00, 764.39it/s]\n",
            "Epoch 75. Loss: 1.12666:  97% 15835/16352 [00:20<00:00, 765.75it/s]\n",
            "Epoch 76. Loss: 1.14849:  97% 15835/16352 [00:20<00:00, 769.70it/s]\n",
            "Epoch 77. Loss: 1.15318:  97% 15835/16352 [00:20<00:00, 770.10it/s]\n",
            "Epoch 78. Loss: 1.09713:  97% 15835/16352 [00:20<00:00, 759.94it/s]\n",
            "Epoch 79. Loss: 1.11066:  97% 15835/16352 [00:20<00:00, 759.56it/s]\n",
            "Epoch 80. Loss: 1.15366:  97% 15835/16352 [00:20<00:00, 759.89it/s]\n",
            "Epoch 81. Loss: 1.06583:  97% 15835/16352 [00:20<00:00, 759.33it/s]\n",
            "Epoch 82. Loss: 1.13459:  97% 15835/16352 [00:20<00:00, 774.72it/s]\n",
            "Epoch 83. Loss: 1.11965:  97% 15835/16352 [00:20<00:00, 768.48it/s]\n",
            "Epoch 84. Loss: 1.10348:  97% 15835/16352 [00:20<00:00, 765.72it/s]\n",
            "Epoch 85. Loss: 1.11677:  97% 15835/16352 [00:20<00:00, 774.04it/s]\n",
            "Epoch 86. Loss: 1.08985:  97% 15835/16352 [00:20<00:00, 770.48it/s]\n",
            "Epoch 87. Loss: 1.11748:  97% 15835/16352 [00:20<00:00, 771.50it/s]\n",
            "Epoch 88. Loss: 1.03766:  97% 15835/16352 [00:20<00:00, 774.97it/s]\n",
            "Epoch 89. Loss: 1.12627:  97% 15835/16352 [00:20<00:00, 773.99it/s]\n",
            "Epoch 90. Loss: 1.09217:  97% 15835/16352 [00:20<00:00, 776.12it/s]\n",
            "Epoch 91. Loss: 1.11969:  97% 15835/16352 [00:20<00:00, 774.50it/s]\n",
            "Epoch 92. Loss: 1.05888:  97% 15835/16352 [00:20<00:00, 773.08it/s]\n",
            "Epoch 93. Loss: 1.09941:  97% 15835/16352 [00:20<00:00, 768.94it/s]\n",
            "Epoch 94. Loss: 1.03519:  97% 15835/16352 [00:20<00:00, 772.50it/s]\n",
            "Epoch 95. Loss: 1.07736:  97% 15835/16352 [00:20<00:00, 772.14it/s]\n",
            "Epoch 96. Loss: 1.05565:  97% 15835/16352 [00:20<00:00, 772.28it/s]\n",
            "Epoch 97. Loss: 1.04512:  97% 15835/16352 [00:20<00:00, 768.66it/s]\n",
            "Epoch 98. Loss: 1.03063:  97% 15835/16352 [00:20<00:00, 770.28it/s]\n",
            "Epoch 99. Loss: 1.04873:  97% 15835/16352 [00:20<00:00, 769.08it/s]\n",
            "Epoch 100. Loss: 1.05600:  97% 15835/16352 [00:20<00:00, 762.00it/s]\n",
            "Epoch 101. Loss: 1.11362:  97% 15835/16352 [00:20<00:00, 771.47it/s]\n",
            "Epoch 102. Loss: 1.04764:  97% 15835/16352 [00:20<00:00, 766.04it/s]\n",
            "Epoch 103. Loss: 1.06775:  97% 15835/16352 [00:20<00:00, 767.83it/s]\n",
            "Epoch 104. Loss: 1.00846:  97% 15835/16352 [00:20<00:00, 767.44it/s]\n",
            "Epoch 105. Loss: 1.04539:  97% 15835/16352 [00:20<00:00, 765.71it/s]\n",
            "Epoch 106. Loss: 1.02357:  97% 15835/16352 [00:20<00:00, 769.08it/s]\n",
            "Epoch 107. Loss: 1.02293:  97% 15835/16352 [00:20<00:00, 766.45it/s]\n",
            "Epoch 108. Loss: 1.07416:  97% 15835/16352 [00:20<00:00, 769.14it/s]\n",
            "Epoch 109. Loss: 1.05154:  97% 15835/16352 [00:20<00:00, 767.73it/s]\n",
            "Epoch 110. Loss: 1.00404:  97% 15835/16352 [00:20<00:00, 772.28it/s]\n",
            "Epoch 111. Loss: 1.03968:  97% 15835/16352 [00:20<00:00, 769.81it/s]\n",
            "Epoch 112. Loss: 1.04595:  97% 15835/16352 [00:20<00:00, 770.96it/s]\n",
            "Epoch 113. Loss: 1.04002:  97% 15835/16352 [00:20<00:00, 768.10it/s]\n",
            "Epoch 114. Loss: 1.01147:  97% 15835/16352 [00:20<00:00, 774.02it/s]\n",
            "Epoch 115. Loss: 1.03756:  97% 15835/16352 [00:20<00:00, 771.43it/s]\n",
            "Epoch 116. Loss: 1.03957:  97% 15835/16352 [00:20<00:00, 773.80it/s]\n",
            "Epoch 117. Loss: 1.05570:  97% 15835/16352 [00:20<00:00, 772.97it/s]\n",
            "Epoch 118. Loss: 0.98457:  97% 15835/16352 [00:20<00:00, 774.63it/s]\n",
            "Epoch 119. Loss: 1.05930:  97% 15835/16352 [00:20<00:00, 777.10it/s]\n",
            "Epoch 120. Loss: 1.02519:  97% 15835/16352 [00:20<00:00, 774.36it/s]\n",
            "Epoch 121. Loss: 1.01301:  97% 15835/16352 [00:20<00:00, 764.07it/s]\n",
            "Epoch 122. Loss: 1.06801:  97% 15835/16352 [00:20<00:00, 767.31it/s]\n",
            "Epoch 123. Loss: 1.04634:  97% 15835/16352 [00:20<00:00, 761.00it/s]\n",
            "Epoch 124. Loss: 1.01083:  97% 15835/16352 [00:20<00:00, 760.93it/s]\n",
            "Epoch 125. Loss: 0.99742:  97% 15835/16352 [00:20<00:00, 768.74it/s]\n",
            "Epoch 126. Loss: 0.99055:  97% 15835/16352 [00:20<00:00, 770.99it/s]\n",
            "Epoch 127. Loss: 1.03699:  97% 15835/16352 [00:20<00:00, 765.65it/s]\n",
            "Epoch 128. Loss: 1.02167:  97% 15835/16352 [00:20<00:00, 762.82it/s]\n",
            "Epoch 129. Loss: 1.01851:  97% 15835/16352 [00:20<00:00, 764.52it/s]\n",
            "Epoch 130. Loss: 1.06872:  97% 15835/16352 [00:20<00:00, 764.49it/s]\n",
            "Epoch 131. Loss: 0.99726:  97% 15835/16352 [00:20<00:00, 760.27it/s]\n",
            "Epoch 132. Loss: 1.02697:  97% 15835/16352 [00:20<00:00, 759.48it/s]\n",
            "Epoch 133. Loss: 0.97763:  97% 15835/16352 [00:21<00:00, 750.82it/s]\n",
            "Epoch 134. Loss: 0.97962:  97% 15835/16352 [00:21<00:00, 753.85it/s]\n",
            "Epoch 135. Loss: 0.98461:  97% 15835/16352 [00:21<00:00, 751.53it/s]\n",
            "Epoch 136. Loss: 0.98471:  97% 15835/16352 [00:20<00:00, 764.15it/s]\n",
            "Epoch 137. Loss: 1.00644:  97% 15835/16352 [00:20<00:00, 761.07it/s]\n",
            "Epoch 138. Loss: 0.97046:  97% 15835/16352 [00:20<00:00, 766.60it/s]\n",
            "Epoch 139. Loss: 0.99880:  97% 15835/16352 [00:20<00:00, 765.31it/s]\n",
            "Epoch 140. Loss: 0.98764:  97% 15835/16352 [00:20<00:00, 767.46it/s]\n",
            "Epoch 141. Loss: 0.98382:  97% 15835/16352 [00:20<00:00, 768.06it/s]\n",
            "Epoch 142. Loss: 0.97331:  97% 15835/16352 [00:20<00:00, 764.27it/s]\n",
            "Epoch 143. Loss: 0.99100:  97% 15835/16352 [00:20<00:00, 769.91it/s]\n",
            "Epoch 144. Loss: 0.98738:  97% 15835/16352 [00:20<00:00, 760.84it/s]\n",
            "Epoch 145. Loss: 1.00249:  97% 15835/16352 [00:20<00:00, 767.47it/s]\n",
            "Epoch 146. Loss: 0.96937:  97% 15835/16352 [00:20<00:00, 766.41it/s]\n",
            "Epoch 147. Loss: 0.98391:  97% 15835/16352 [00:20<00:00, 756.11it/s]\n",
            "Epoch 148. Loss: 1.00147:  97% 15835/16352 [00:20<00:00, 755.18it/s]\n",
            "Epoch 149. Loss: 0.99984:  97% 15835/16352 [00:21<00:00, 752.37it/s]\n",
            "Epoch 150. Loss: 0.97814:  97% 15835/16352 [00:20<00:00, 756.50it/s]\n",
            "Epoch 151. Loss: 0.94482:  97% 15835/16352 [00:20<00:00, 761.43it/s]\n",
            "Epoch 152. Loss: 0.98532:  97% 15835/16352 [00:20<00:00, 763.27it/s]\n",
            "Epoch 153. Loss: 0.96564:  97% 15835/16352 [00:20<00:00, 763.49it/s]\n",
            "Epoch 154. Loss: 1.00327:  97% 15835/16352 [00:20<00:00, 759.74it/s]\n",
            "Epoch 155. Loss: 0.99496:  97% 15835/16352 [00:21<00:00, 749.81it/s]\n",
            "Epoch 156. Loss: 0.96873:  97% 15835/16352 [00:20<00:00, 762.84it/s]\n",
            "Epoch 157. Loss: 0.97516:  97% 15835/16352 [00:20<00:00, 760.72it/s]\n",
            "Epoch 158. Loss: 0.94062:  97% 15835/16352 [00:20<00:00, 766.20it/s]\n",
            "Epoch 159. Loss: 0.98269:  97% 15835/16352 [00:20<00:00, 761.42it/s]\n",
            "Epoch 160. Loss: 0.96943:  97% 15835/16352 [00:20<00:00, 759.94it/s]\n",
            "Epoch 161. Loss: 0.92124:  97% 15835/16352 [00:20<00:00, 764.80it/s]\n",
            "Epoch 162. Loss: 0.93377:  97% 15835/16352 [00:20<00:00, 762.12it/s]\n",
            "Epoch 163. Loss: 0.95216:  97% 15835/16352 [00:20<00:00, 762.03it/s]\n",
            "Epoch 164. Loss: 0.93706:  97% 15835/16352 [00:20<00:00, 757.47it/s]\n",
            "Epoch 165. Loss: 0.97893:  97% 15835/16352 [00:20<00:00, 761.22it/s]\n",
            "Epoch 166. Loss: 0.94893:  97% 15835/16352 [00:20<00:00, 765.29it/s]\n",
            "Epoch 167. Loss: 0.94559:  97% 15835/16352 [00:20<00:00, 758.60it/s]\n",
            "Epoch 168. Loss: 0.92185:  97% 15835/16352 [00:20<00:00, 759.64it/s]\n",
            "Epoch 169. Loss: 0.94865:  97% 15835/16352 [00:20<00:00, 764.37it/s]\n",
            "Epoch 170. Loss: 0.93684:  97% 15835/16352 [00:20<00:00, 760.86it/s]\n",
            "Epoch 171. Loss: 0.96790:  97% 15835/16352 [00:20<00:00, 765.75it/s]\n",
            "Epoch 172. Loss: 0.98196:  97% 15835/16352 [00:20<00:00, 758.21it/s]\n",
            "Epoch 173. Loss: 0.94483:  97% 15835/16352 [00:20<00:00, 756.42it/s]\n",
            "Epoch 174. Loss: 0.94359:  97% 15835/16352 [00:20<00:00, 755.73it/s]\n",
            "Epoch 175. Loss: 0.94345:  97% 15835/16352 [00:21<00:00, 753.54it/s]\n",
            "Epoch 176. Loss: 0.87200:  97% 15835/16352 [00:20<00:00, 756.43it/s]\n",
            "Epoch 177. Loss: 0.93689:  97% 15835/16352 [00:21<00:00, 751.70it/s]\n",
            "Epoch 178. Loss: 0.96151:  97% 15835/16352 [00:20<00:00, 756.77it/s]\n",
            "Epoch 179. Loss: 0.92001:  97% 15835/16352 [00:20<00:00, 761.04it/s]\n",
            "Epoch 180. Loss: 0.93831:  97% 15835/16352 [00:20<00:00, 759.33it/s]\n",
            "Epoch 181. Loss: 0.92319:  97% 15835/16352 [00:20<00:00, 761.84it/s]\n",
            "Epoch 182. Loss: 0.94690:  97% 15835/16352 [00:20<00:00, 768.34it/s]\n",
            "Epoch 183. Loss: 0.97193:  97% 15835/16352 [00:20<00:00, 769.08it/s]\n",
            "Epoch 184. Loss: 0.95797:  97% 15835/16352 [00:20<00:00, 766.73it/s]\n",
            "Epoch 185. Loss: 0.94775:  97% 15835/16352 [00:20<00:00, 755.02it/s]\n",
            "Epoch 186. Loss: 0.95224:  97% 15835/16352 [00:20<00:00, 757.38it/s]\n",
            "Epoch 187. Loss: 0.89701:  97% 15835/16352 [00:20<00:00, 755.04it/s]\n",
            "Epoch 188. Loss: 0.91978:  97% 15835/16352 [00:20<00:00, 758.94it/s]\n",
            "Epoch 189. Loss: 0.90570:  97% 15835/16352 [00:20<00:00, 755.80it/s]\n",
            "Epoch 190. Loss: 0.93795:  97% 15835/16352 [00:20<00:00, 763.41it/s]\n",
            "Epoch 191. Loss: 0.95187:  97% 15835/16352 [00:20<00:00, 755.92it/s]\n",
            "Epoch 192. Loss: 0.92639:  97% 15835/16352 [00:20<00:00, 758.69it/s]\n",
            "Epoch 193. Loss: 0.94181:  97% 15835/16352 [00:21<00:00, 750.26it/s]\n",
            "Epoch 194. Loss: 0.95140:  97% 15835/16352 [00:21<00:00, 750.96it/s]\n",
            "Epoch 195. Loss: 0.90315:  97% 15835/16352 [00:20<00:00, 759.19it/s]\n",
            "Epoch 196. Loss: 0.93672:  97% 15835/16352 [00:21<00:00, 750.68it/s]\n",
            "Epoch 197. Loss: 0.96053:  97% 15835/16352 [00:20<00:00, 755.48it/s]\n",
            "Epoch 198. Loss: 0.91416:  97% 15835/16352 [00:21<00:00, 753.97it/s]\n",
            "Epoch 199. Loss: 0.94146:  97% 15835/16352 [00:21<00:00, 751.35it/s]\n",
            "Evaluating model...\n",
            "\t - Recall@20 epoch 200: 0.511340\n",
            "\t - MRR@20    epoch 200: 0.208709\n",
            "\n"
          ]
        }
      ]
    },
    {
      "cell_type": "markdown",
      "metadata": {
        "id": "YdMFiWFK65w1"
      },
      "source": [
        "Indique el resultado del modelo con Dwell Time. \n",
        "\n",
        "El resultado fue:\n",
        "\n",
        "- Recall@20 epoch 200: 0.511340\n",
        "- MRR@20    epoch 200: 0.208709"
      ]
    },
    {
      "cell_type": "code",
      "metadata": {
        "id": "wfjRTwL3GiF6"
      },
      "source": [
        ""
      ],
      "execution_count": null,
      "outputs": []
    }
  ]
}