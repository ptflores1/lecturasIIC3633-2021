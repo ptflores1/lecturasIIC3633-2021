{
  "nbformat": 4,
  "nbformat_minor": 0,
  "metadata": {
    "colab": {
      "name": "pyRecLab_SlopeOne.ipynb",
      "provenance": []
    },
    "kernelspec": {
      "display_name": "Python 3",
      "language": "python",
      "name": "python3"
    },
    "language_info": {
      "codemirror_mode": {
        "name": "ipython",
        "version": 3
      },
      "file_extension": ".py",
      "mimetype": "text/x-python",
      "name": "python",
      "nbconvert_exporter": "python",
      "pygments_lexer": "ipython3",
      "version": "3.6.0"
    },
    "toc": {
      "base_numbering": 1,
      "nav_menu": {},
      "number_sections": true,
      "sideBar": true,
      "skip_h1_title": false,
      "title_cell": "Table of Contents",
      "title_sidebar": "Contents",
      "toc_cell": false,
      "toc_position": {},
      "toc_section_display": true,
      "toc_window_display": false
    }
  },
  "cells": [
    {
      "cell_type": "markdown",
      "metadata": {
        "id": "view-in-youtube"
      },
      "source": [
        "<a href=\"https://youtu.be/A2euuevpYis\" target=\"_parent\"><img src=\"https://upload.wikimedia.org/wikipedia/commons/thumb/0/09/YouTube_full-color_icon_%282017%29.svg/71px-YouTube_full-color_icon_%282017%29.svg.png\" alt=\"Open In Colab\"/></a>\n"
      ]
    },
    {
      "cell_type": "markdown",
      "metadata": {
        "id": "0kY7Xfgi84HC"
      },
      "source": [
        "# **Práctico Sistemas Recomendadores: pyreclab - Slope One**\n",
        "\n",
        "En este práctico seguiremos utilizando [pyreclab](https://github.com/gasevi/pyreclab), con el cual estamos aprendiendo distintas técnicas de recomendación. Seguiremos usando la misma base de datos de los prácticos anteriores, para que puedan comparar los métodos y sus implementaciones. Este práctico está acompañado de un [video comentando la actividad](https://youtu.be/A2euuevpYis).\n",
        "\n",
        "En esta oportunidad exploraremos el recomendador de Pendiente Uno o **Slope One** [1].\n",
        "\n",
        "**Adaptado y preparado por:** Francisca Cattan 📩 fpcattan@uc.cl\n",
        "\n",
        "Referencias 📖\n",
        "------\n",
        "[1] *Lemire, D., & Maclachlan, A. (2005, April). Slope One Predictors for Online Rating-Based Collaborative Filtering. In SDM (Vol. 5, pp. 1-5).*\n"
      ]
    },
    {
      "cell_type": "markdown",
      "metadata": {
        "id": "1s6Ac_Kh9qiH"
      },
      "source": [
        "**Nombre**:  Pablo Flores Alvarado"
      ]
    },
    {
      "cell_type": "markdown",
      "metadata": {
        "id": "Z4Jr74pP-4gt"
      },
      "source": [
        "## Actividad 1 👓\n",
        "\n",
        "Antes de empezar con el práctico, responde la siguiente pregunta con lo visto en clases.\n",
        "\n",
        "**Pregunta:** Explique cómo funciona Slope One (como modelo teórico, no piense en la implementación). En particular explique:\n",
        "\n",
        "- Repasemos: ¿Por qué este recomendador es un algoritmo de Filtrado Colaborativo?\n",
        "- Este Filtrado Colaborativo, ¿está basado en el usuario o en los items? ¿Por qué?\n",
        "- ¿Qué datos recibe Slope One y qué hace con ellos? (qué tipo de columnas y qué calculo)\n",
        "- ¿Qué pasaría si se agrega un nuevo rating a la base de datos?\n",
        "- Opcional: ¿Cómo crees que le iría al recomendador con un usuario que acaba de entrar al sistema y ha asignado muy pocos ratings?\n",
        "\n",
        "💡 *Hint: La bibliografía todo lo puede.*\n",
        "\n",
        "**Respuesta:**\n",
        "\n",
        "- Porque utiliza los ratings de otros usuarios en conjunto con los ratings de un usuario en particular para predecir ratings y asi recomendar.\n",
        "- Está basado en el usuario porque utiliza los ratings de los usuarios sobre un item para predecir el rating de un usuario en particular sobre el item en vez de utilizarse los ratings del usuario sobre todos los items, lo que seria item-based.\n",
        "- Recibe una matriz de ratings dados por usuarios a items. Se calcula las desviaciones promedio de los ratings sobre un item por ejemplo: cuantos se desvian en promedio los ratings del item A al item C y cuanto se desvian del item B al item C. Luego, para predecir un rating se hace un promedio ponderado sobre las desviaciones usando como pesos la cantidad de ejemplos que se usó para calcular cada desviación promedio.\n",
        "- Como solo es necesario guardar las desviaciones promedio para cada par de items, se puede guardar ademas la cantidad de ejemplos utilizados hasta el momento para el calculo del promedio y luego al llegar un nuevo ejemplo se puede recalcular el promedio multiplicando el promedio antiguo por la cantidad de ejemplos antiguos, sumando la nueva desviación y dividiendo por la cantidad de elementos antiguos más 1\n",
        "\n",
        "\n"
      ]
    },
    {
      "cell_type": "markdown",
      "metadata": {
        "id": "HaFY1qNzHyCD"
      },
      "source": [
        "# **Configuración Inicial**"
      ]
    },
    {
      "cell_type": "markdown",
      "metadata": {
        "id": "MvGNsjiIIC6G"
      },
      "source": [
        "## Paso 1:\n",
        "Descargue directamente a Colab los archivos del dataset ejecutando las siguientes 3 celdas:\n"
      ]
    },
    {
      "cell_type": "code",
      "metadata": {
        "colab": {
          "base_uri": "https://localhost:8080/"
        },
        "id": "_7M_ehHq8ti2",
        "outputId": "1d5a1f55-a1fa-45fb-921b-819b5be981fa"
      },
      "source": [
        "!curl -L -o \"u1.base\" \"https://drive.google.com/uc?export=download&id=1bGweNw7NbOHoJz11v6ld7ymLR8MLvBsA\""
      ],
      "execution_count": 1,
      "outputs": [
        {
          "output_type": "stream",
          "text": [
            "  % Total    % Received % Xferd  Average Speed   Time    Time     Time  Current\n",
            "                                 Dload  Upload   Total   Spent    Left  Speed\n",
            "100   388    0   388    0     0    352      0 --:--:--  0:00:01 --:--:--   352\n",
            "100 1546k  100 1546k    0     0   885k      0  0:00:01  0:00:01 --:--:-- 27.5M\n"
          ],
          "name": "stdout"
        }
      ]
    },
    {
      "cell_type": "code",
      "metadata": {
        "colab": {
          "base_uri": "https://localhost:8080/"
        },
        "id": "CSdhurW1InVW",
        "outputId": "27fe7399-5055-48d4-8088-38fe9f774e1d"
      },
      "source": [
        "!curl -L -o \"u1.test\" \"https://drive.google.com/uc?export=download&id=1f_HwJWC_1HFzgAjKAWKwkuxgjkhkXrVg\""
      ],
      "execution_count": 2,
      "outputs": [
        {
          "output_type": "stream",
          "text": [
            "  % Total    % Received % Xferd  Average Speed   Time    Time     Time  Current\n",
            "                                 Dload  Upload   Total   Spent    Left  Speed\n",
            "100   388    0   388    0     0    442      0 --:--:-- --:--:-- --:--:--   441\n",
            "100  385k  100  385k    0     0   267k      0  0:00:01  0:00:01 --:--:--  267k\n"
          ],
          "name": "stdout"
        }
      ]
    },
    {
      "cell_type": "code",
      "metadata": {
        "colab": {
          "base_uri": "https://localhost:8080/"
        },
        "id": "QoGzmPG2InzM",
        "outputId": "b71e24b1-c519-46de-e16e-03b27ae0d686"
      },
      "source": [
        "!curl -L -o \"u.item\" \"https://drive.google.com/uc?export=download&id=10YLhxkO2-M_flQtyo9OYV4nT9IvSESuz\""
      ],
      "execution_count": 3,
      "outputs": [
        {
          "output_type": "stream",
          "text": [
            "  % Total    % Received % Xferd  Average Speed   Time    Time     Time  Current\n",
            "                                 Dload  Upload   Total   Spent    Left  Speed\n",
            "100   388    0   388    0     0    505      0 --:--:-- --:--:-- --:--:--   505\n",
            "100  230k  100  230k    0     0   181k      0  0:00:01  0:00:01 --:--:--  181k\n"
          ],
          "name": "stdout"
        }
      ]
    },
    {
      "cell_type": "markdown",
      "metadata": {
        "id": "kluVF2eJIyjq"
      },
      "source": [
        "Los archivos **u1.base** y **u1.test** tienen tuplas {usuario, item, rating, timestamp}, que es la información de preferencias de usuarios sobre películas en una muestra del dataset [movielens](https://grouplens.org/datasets/movielens/)."
      ]
    },
    {
      "cell_type": "markdown",
      "metadata": {
        "id": "uopKG59rJWM9"
      },
      "source": [
        "## Paso 2:\n",
        "\n",
        "Instalamos pyreclab utilizando pip."
      ]
    },
    {
      "cell_type": "code",
      "metadata": {
        "colab": {
          "base_uri": "https://localhost:8080/"
        },
        "id": "hi9L5FZdJWfI",
        "outputId": "9c58364b-bc40-48eb-f391-6dfd7139eb9b"
      },
      "source": [
        "!pip install pyreclab --upgrade"
      ],
      "execution_count": 4,
      "outputs": [
        {
          "output_type": "stream",
          "text": [
            "Collecting pyreclab\n",
            "  Downloading pyreclab-0.1.15-cp37-cp37m-manylinux2010_x86_64.whl (234 kB)\n",
            "\u001b[?25l\r\u001b[K     |█▍                              | 10 kB 35.6 MB/s eta 0:00:01\r\u001b[K     |██▉                             | 20 kB 24.3 MB/s eta 0:00:01\r\u001b[K     |████▏                           | 30 kB 18.4 MB/s eta 0:00:01\r\u001b[K     |█████▋                          | 40 kB 15.6 MB/s eta 0:00:01\r\u001b[K     |███████                         | 51 kB 7.3 MB/s eta 0:00:01\r\u001b[K     |████████▍                       | 61 kB 8.5 MB/s eta 0:00:01\r\u001b[K     |█████████▊                      | 71 kB 8.1 MB/s eta 0:00:01\r\u001b[K     |███████████▏                    | 81 kB 9.1 MB/s eta 0:00:01\r\u001b[K     |████████████▋                   | 92 kB 9.6 MB/s eta 0:00:01\r\u001b[K     |██████████████                  | 102 kB 7.3 MB/s eta 0:00:01\r\u001b[K     |███████████████▍                | 112 kB 7.3 MB/s eta 0:00:01\r\u001b[K     |████████████████▊               | 122 kB 7.3 MB/s eta 0:00:01\r\u001b[K     |██████████████████▏             | 133 kB 7.3 MB/s eta 0:00:01\r\u001b[K     |███████████████████▌            | 143 kB 7.3 MB/s eta 0:00:01\r\u001b[K     |█████████████████████           | 153 kB 7.3 MB/s eta 0:00:01\r\u001b[K     |██████████████████████▍         | 163 kB 7.3 MB/s eta 0:00:01\r\u001b[K     |███████████████████████▊        | 174 kB 7.3 MB/s eta 0:00:01\r\u001b[K     |█████████████████████████▏      | 184 kB 7.3 MB/s eta 0:00:01\r\u001b[K     |██████████████████████████▌     | 194 kB 7.3 MB/s eta 0:00:01\r\u001b[K     |████████████████████████████    | 204 kB 7.3 MB/s eta 0:00:01\r\u001b[K     |█████████████████████████████▎  | 215 kB 7.3 MB/s eta 0:00:01\r\u001b[K     |██████████████████████████████▊ | 225 kB 7.3 MB/s eta 0:00:01\r\u001b[K     |████████████████████████████████| 234 kB 7.3 MB/s \n",
            "\u001b[?25hInstalling collected packages: pyreclab\n",
            "Successfully installed pyreclab-0.1.15\n"
          ],
          "name": "stdout"
        }
      ]
    },
    {
      "cell_type": "markdown",
      "metadata": {
        "id": "M28DoBHtN5qD"
      },
      "source": [
        "## Paso 3:\n",
        "\n",
        "Hacemos los imports necesarios para este práctico."
      ]
    },
    {
      "cell_type": "code",
      "metadata": {
        "id": "KQ0jQ_JcN3el"
      },
      "source": [
        "import pyreclab\n",
        "import numpy as np\n",
        "import pandas as pd"
      ],
      "execution_count": 5,
      "outputs": []
    },
    {
      "cell_type": "markdown",
      "metadata": {
        "id": "bmxNQtXvfJy3"
      },
      "source": [
        "# **El dataset**\n",
        "\n",
        "💡 *En prácticos anteriores, vimos como analizar este dataset. Puedes revisarlos en caso de dudas.*"
      ]
    },
    {
      "cell_type": "markdown",
      "metadata": {
        "id": "nAdXLT7haQe1"
      },
      "source": [
        "## Paso 4:\n",
        "\n",
        "Ya que queremos crear una lista de recomendación de items para un usuario en especifico, necesitamos obtener información adicional de cada película tal como título, fecha de lanzamiento, género, etc. Cargaremos el archivo de items descargado \"u.item\" para poder mapear cada identificador de ítem al conjunto de datos que lo describe."
      ]
    },
    {
      "cell_type": "code",
      "metadata": {
        "id": "p0vHiGJheUkB"
      },
      "source": [
        "# Definimos el orden de las columnas\n",
        "info_cols = [ 'movieid', 'title', 'release_date', 'video_release_date', 'IMDb_URL', \\\n",
        "              'unknown', 'Action', 'Adventure', 'Animation', 'Children', 'Comedy', \\\n",
        "              'Crime', 'Documentary', 'Drama', 'Fantasy', 'Film-Noir', 'Horror', \\\n",
        "              'Musical', 'Mystery', 'Romance', 'Sci-Fi', 'Thriller', 'War', 'Western' ]\n",
        "\n",
        "# Asignamos a una variable la estructura de datos de los items\n",
        "info_file = pd.read_csv('u.item', sep='|', index_col = 0, names = info_cols, header=None, encoding='latin-1')"
      ],
      "execution_count": 6,
      "outputs": []
    },
    {
      "cell_type": "markdown",
      "metadata": {
        "id": "z4pjNDlMOOdo"
      },
      "source": [
        "# **Slope One**"
      ]
    },
    {
      "cell_type": "markdown",
      "metadata": {
        "id": "H5sx7xkfQE6W"
      },
      "source": [
        "## Paso 5:\n",
        "\n",
        "Seguiremos un camino muy similar a los ejercicios de User KNN e Item KNN. Crearemos una instancia del algoritmo de recomendación y luego pasaremos a la fase de entrenamiento."
      ]
    },
    {
      "cell_type": "code",
      "metadata": {
        "id": "v3D7CAoyPfko"
      },
      "source": [
        "# Declaramos la instancia SlopeOne\n",
        "mySlopeOne = pyreclab.SlopeOne(dataset='u1.base', dlmchar=b'\\t', header=False, usercol=0, itemcol=1, ratingcol=2)"
      ],
      "execution_count": 7,
      "outputs": []
    },
    {
      "cell_type": "code",
      "metadata": {
        "id": "EhacKomkTs51"
      },
      "source": [
        "# Y enntrenamos\n",
        "mySlopeOne.train()"
      ],
      "execution_count": 8,
      "outputs": []
    },
    {
      "cell_type": "markdown",
      "metadata": {
        "id": "Wnb3DkVVTttZ"
      },
      "source": [
        "## Actividad 2 👓\n",
        "\n",
        "**Pregunta:** Explique qué hace el método `train()` en este caso, dado el modelo teórico. ¿Calcula información?, ¿no hace nada?, ¿ordena los datos? \n",
        "\n",
        "**Respuesta:** El método `train()` deberia calcular una matriz $d_{ij}$ que representa la desviación promedio del item i al j"
      ]
    },
    {
      "cell_type": "markdown",
      "metadata": {
        "id": "XqR8bZB2VboJ"
      },
      "source": [
        "## Paso 6:\n",
        "\n",
        "Llego la hora de predecir el rating."
      ]
    },
    {
      "cell_type": "code",
      "metadata": {
        "colab": {
          "base_uri": "https://localhost:8080/"
        },
        "id": "H9yigNx9VYZ3",
        "outputId": "9d6efce3-013c-4651-d2ba-0d1798429380"
      },
      "source": [
        "# Esta es la predicción de rating que el usuario ID:457 otorgaría al ítem ID:37\n",
        "# De esta forma podemos comparar el resultado con los prácticos anteriores\n",
        "mySlopeOne.predict(\"457\", \"37\")"
      ],
      "execution_count": 9,
      "outputs": [
        {
          "output_type": "execute_result",
          "data": {
            "text/plain": [
              "3.2408759593963623"
            ]
          },
          "metadata": {},
          "execution_count": 9
        }
      ]
    },
    {
      "cell_type": "code",
      "metadata": {
        "id": "-0ShLi6gYhh_"
      },
      "source": [
        "# También podemos guardar la predicción en una variable\n",
        "prediction = mySlopeOne.predict(\"457\", \"37\")"
      ],
      "execution_count": 10,
      "outputs": []
    },
    {
      "cell_type": "code",
      "metadata": {
        "colab": {
          "base_uri": "https://localhost:8080/",
          "height": 424
        },
        "id": "2yFtdiVcUcKW",
        "outputId": "c09c1071-c7fe-45db-c45f-529cd32dd650"
      },
      "source": [
        "# Podemos comprobar las peliculas rankeadas por el usuario ID:457\n",
        "# Que ciertamente ha participado activamente (¡156 items!)\n",
        "train_file = pd.read_csv('u1.base', sep='\\t', names = ['userid', 'itemid', 'rating', 'timestamp'], header=None)\n",
        "train_file[train_file['userid'] == 457]"
      ],
      "execution_count": 11,
      "outputs": [
        {
          "output_type": "execute_result",
          "data": {
            "text/html": [
              "<div>\n",
              "<style scoped>\n",
              "    .dataframe tbody tr th:only-of-type {\n",
              "        vertical-align: middle;\n",
              "    }\n",
              "\n",
              "    .dataframe tbody tr th {\n",
              "        vertical-align: top;\n",
              "    }\n",
              "\n",
              "    .dataframe thead th {\n",
              "        text-align: right;\n",
              "    }\n",
              "</style>\n",
              "<table border=\"1\" class=\"dataframe\">\n",
              "  <thead>\n",
              "    <tr style=\"text-align: right;\">\n",
              "      <th></th>\n",
              "      <th>userid</th>\n",
              "      <th>itemid</th>\n",
              "      <th>rating</th>\n",
              "      <th>timestamp</th>\n",
              "    </tr>\n",
              "  </thead>\n",
              "  <tbody>\n",
              "    <tr>\n",
              "      <th>37269</th>\n",
              "      <td>457</td>\n",
              "      <td>1</td>\n",
              "      <td>4</td>\n",
              "      <td>882393244</td>\n",
              "    </tr>\n",
              "    <tr>\n",
              "      <th>37270</th>\n",
              "      <td>457</td>\n",
              "      <td>7</td>\n",
              "      <td>4</td>\n",
              "      <td>882393278</td>\n",
              "    </tr>\n",
              "    <tr>\n",
              "      <th>37271</th>\n",
              "      <td>457</td>\n",
              "      <td>9</td>\n",
              "      <td>5</td>\n",
              "      <td>882393485</td>\n",
              "    </tr>\n",
              "    <tr>\n",
              "      <th>37272</th>\n",
              "      <td>457</td>\n",
              "      <td>11</td>\n",
              "      <td>4</td>\n",
              "      <td>882397020</td>\n",
              "    </tr>\n",
              "    <tr>\n",
              "      <th>37273</th>\n",
              "      <td>457</td>\n",
              "      <td>13</td>\n",
              "      <td>3</td>\n",
              "      <td>882393883</td>\n",
              "    </tr>\n",
              "    <tr>\n",
              "      <th>...</th>\n",
              "      <td>...</td>\n",
              "      <td>...</td>\n",
              "      <td>...</td>\n",
              "      <td>...</td>\n",
              "    </tr>\n",
              "    <tr>\n",
              "      <th>37420</th>\n",
              "      <td>457</td>\n",
              "      <td>1047</td>\n",
              "      <td>2</td>\n",
              "      <td>882395964</td>\n",
              "    </tr>\n",
              "    <tr>\n",
              "      <th>37421</th>\n",
              "      <td>457</td>\n",
              "      <td>1119</td>\n",
              "      <td>4</td>\n",
              "      <td>882398308</td>\n",
              "    </tr>\n",
              "    <tr>\n",
              "      <th>37422</th>\n",
              "      <td>457</td>\n",
              "      <td>1168</td>\n",
              "      <td>5</td>\n",
              "      <td>882548761</td>\n",
              "    </tr>\n",
              "    <tr>\n",
              "      <th>37423</th>\n",
              "      <td>457</td>\n",
              "      <td>1210</td>\n",
              "      <td>4</td>\n",
              "      <td>882549905</td>\n",
              "    </tr>\n",
              "    <tr>\n",
              "      <th>37424</th>\n",
              "      <td>457</td>\n",
              "      <td>1221</td>\n",
              "      <td>4</td>\n",
              "      <td>882549438</td>\n",
              "    </tr>\n",
              "  </tbody>\n",
              "</table>\n",
              "<p>156 rows × 4 columns</p>\n",
              "</div>"
            ],
            "text/plain": [
              "       userid  itemid  rating  timestamp\n",
              "37269     457       1       4  882393244\n",
              "37270     457       7       4  882393278\n",
              "37271     457       9       5  882393485\n",
              "37272     457      11       4  882397020\n",
              "37273     457      13       3  882393883\n",
              "...       ...     ...     ...        ...\n",
              "37420     457    1047       2  882395964\n",
              "37421     457    1119       4  882398308\n",
              "37422     457    1168       5  882548761\n",
              "37423     457    1210       4  882549905\n",
              "37424     457    1221       4  882549438\n",
              "\n",
              "[156 rows x 4 columns]"
            ]
          },
          "metadata": {},
          "execution_count": 11
        }
      ]
    },
    {
      "cell_type": "code",
      "metadata": {
        "colab": {
          "base_uri": "https://localhost:8080/",
          "height": 269
        },
        "id": "liVoMHlAYhH_",
        "outputId": "7c9879fd-3ded-4c1e-92d7-dfa8e0babb2d"
      },
      "source": [
        "# Y también cuáles usuarios han rankeado la pelicula ID:37\n",
        "train_file[train_file['itemid'] == 37]"
      ],
      "execution_count": 12,
      "outputs": [
        {
          "output_type": "execute_result",
          "data": {
            "text/html": [
              "<div>\n",
              "<style scoped>\n",
              "    .dataframe tbody tr th:only-of-type {\n",
              "        vertical-align: middle;\n",
              "    }\n",
              "\n",
              "    .dataframe tbody tr th {\n",
              "        vertical-align: top;\n",
              "    }\n",
              "\n",
              "    .dataframe thead th {\n",
              "        text-align: right;\n",
              "    }\n",
              "</style>\n",
              "<table border=\"1\" class=\"dataframe\">\n",
              "  <thead>\n",
              "    <tr style=\"text-align: right;\">\n",
              "      <th></th>\n",
              "      <th>userid</th>\n",
              "      <th>itemid</th>\n",
              "      <th>rating</th>\n",
              "      <th>timestamp</th>\n",
              "    </tr>\n",
              "  </thead>\n",
              "  <tbody>\n",
              "    <tr>\n",
              "      <th>1302</th>\n",
              "      <td>13</td>\n",
              "      <td>37</td>\n",
              "      <td>1</td>\n",
              "      <td>882397011</td>\n",
              "    </tr>\n",
              "    <tr>\n",
              "      <th>14851</th>\n",
              "      <td>201</td>\n",
              "      <td>37</td>\n",
              "      <td>2</td>\n",
              "      <td>884114635</td>\n",
              "    </tr>\n",
              "    <tr>\n",
              "      <th>19670</th>\n",
              "      <td>268</td>\n",
              "      <td>37</td>\n",
              "      <td>3</td>\n",
              "      <td>876514002</td>\n",
              "    </tr>\n",
              "    <tr>\n",
              "      <th>29489</th>\n",
              "      <td>363</td>\n",
              "      <td>37</td>\n",
              "      <td>2</td>\n",
              "      <td>891498510</td>\n",
              "    </tr>\n",
              "    <tr>\n",
              "      <th>31084</th>\n",
              "      <td>385</td>\n",
              "      <td>37</td>\n",
              "      <td>4</td>\n",
              "      <td>880013483</td>\n",
              "    </tr>\n",
              "    <tr>\n",
              "      <th>32996</th>\n",
              "      <td>405</td>\n",
              "      <td>37</td>\n",
              "      <td>1</td>\n",
              "      <td>885548384</td>\n",
              "    </tr>\n",
              "    <tr>\n",
              "      <th>62777</th>\n",
              "      <td>773</td>\n",
              "      <td>37</td>\n",
              "      <td>3</td>\n",
              "      <td>888540352</td>\n",
              "    </tr>\n",
              "  </tbody>\n",
              "</table>\n",
              "</div>"
            ],
            "text/plain": [
              "       userid  itemid  rating  timestamp\n",
              "1302       13      37       1  882397011\n",
              "14851     201      37       2  884114635\n",
              "19670     268      37       3  876514002\n",
              "29489     363      37       2  891498510\n",
              "31084     385      37       4  880013483\n",
              "32996     405      37       1  885548384\n",
              "62777     773      37       3  888540352"
            ]
          },
          "metadata": {},
          "execution_count": 12
        }
      ]
    },
    {
      "cell_type": "markdown",
      "metadata": {
        "id": "u2P14hwFXytK"
      },
      "source": [
        "## Actividad 3 👓\n",
        "\n",
        "Haremos un pequeño experimento para entender mejor como funciona Slope One. Gracias al ejercicio anterior, sabemos que el usuario 457 ya ha asignado el mejor rating (5 ⭐) a las dos peliculas ID:9 e ID:1168. Comparemos.\n",
        "\n",
        "**Pregunta:** ¿Cómo se explican estos resultados?  \n",
        "\n",
        "**Respuesta:** Se explica porque en promedio los usuarios le asignan menor rating a esas peliculas en comparación con otras."
      ]
    },
    {
      "cell_type": "code",
      "metadata": {
        "colab": {
          "base_uri": "https://localhost:8080/"
        },
        "id": "gaqUjAQaVseB",
        "outputId": "78dc11a7-d02d-4724-d075-c4907a03864b"
      },
      "source": [
        "prediction_id9 = mySlopeOne.predict(\"457\", \"9\")\n",
        "prediction_id1168 = mySlopeOne.predict(\"457\", \"1168\")\n",
        "\n",
        "print('Prediction for ID:9 :', prediction_id9)\n",
        "print('Prediction for ID:1168 :', prediction_id1168)"
      ],
      "execution_count": 13,
      "outputs": [
        {
          "output_type": "stream",
          "text": [
            "Prediction for ID:9 : 4.530702114105225\n",
            "Prediction for ID:1168 : 4.166153907775879\n"
          ],
          "name": "stdout"
        }
      ]
    },
    {
      "cell_type": "markdown",
      "metadata": {
        "id": "N8dIE2n_YYnV"
      },
      "source": [
        "## Paso 7:\n",
        "\n",
        "Generaremos ahora una lista ordenada de las top-N recomendaciones, dado un usuario.\n",
        "\n"
      ]
    },
    {
      "cell_type": "code",
      "metadata": {
        "colab": {
          "base_uri": "https://localhost:8080/"
        },
        "id": "CVcJ1I1nZaK1",
        "outputId": "81844814-2cec-4aa4-f079-f10661a74243"
      },
      "source": [
        "# Mediante el método recommend() genereremos una lista top-5 recomendaciones para el usuario ID:457\n",
        "reclist_slopeone = mySlopeOne.recommend(\"457\", 5)\n",
        "\n",
        "# Y visualizaremos el resultado\n",
        "print('Lista de items según ID:', reclist_slopeone)"
      ],
      "execution_count": 14,
      "outputs": [
        {
          "output_type": "stream",
          "text": [
            "Lista de items según ID: ['1592', '1589', '1656', '1431', '1653']\n"
          ],
          "name": "stdout"
        }
      ]
    },
    {
      "cell_type": "code",
      "metadata": {
        "colab": {
          "base_uri": "https://localhost:8080/"
        },
        "id": "BFdRZKQcZtHE",
        "outputId": "67f9483a-f7d6-41c8-e385-df3ca33f2c32"
      },
      "source": [
        "# Lo convertimos a numpy array\n",
        "recmovies_slopeone = np.array(reclist_slopeone).astype(int)\n",
        "\n",
        "# Utilizamos la estructura de datos de los items para encontrar los títulos recomendados\n",
        "print('Lista de items por nombre:')\n",
        "info_file.loc[recmovies_slopeone]['title']"
      ],
      "execution_count": 15,
      "outputs": [
        {
          "output_type": "stream",
          "text": [
            "Lista de items por nombre:\n"
          ],
          "name": "stdout"
        },
        {
          "output_type": "execute_result",
          "data": {
            "text/plain": [
              "movieid\n",
              "1592                               Magic Hour, The (1998)\n",
              "1589                                   Schizopolis (1996)\n",
              "1656                                   Little City (1998)\n",
              "1431                                  Legal Deceit (1997)\n",
              "1653    Entertaining Angels: The Dorothy Day Story (1996)\n",
              "Name: title, dtype: object"
            ]
          },
          "metadata": {},
          "execution_count": 15
        }
      ]
    },
    {
      "cell_type": "markdown",
      "metadata": {
        "id": "NlX6FLTxdPRm"
      },
      "source": [
        "## Actividad 4 👩🏻‍💻\n",
        "\n",
        "Genera una nueva recomendacion, modificando los hiperparametros de usuario y topN a tu elección.\n",
        "\n",
        "**Pregunta:** ¿Ves una diferencia en la recomendación entre el nuevo usuario y el usuario ID:457?\n",
        "\n",
        "**Respuesta:** Si! Las peliculas recomendadas son completamente diferentes a las del usuario 457"
      ]
    },
    {
      "cell_type": "code",
      "metadata": {
        "id": "YQM7mfwDdY3j",
        "colab": {
          "base_uri": "https://localhost:8080/"
        },
        "outputId": "72230555-6781-49c8-aca6-879cfe4bc74e"
      },
      "source": [
        "# Mediante el método recommend() genereremos una lista top-5 recomendaciones para el usuario ID:457\n",
        "reclist_slopeone = mySlopeOne.recommend(\"500\", 5)\n",
        "\n",
        "# Y visualizaremos el resultado\n",
        "print('Lista de items según ID:', reclist_slopeone)\n",
        "\n",
        "# Lo convertimos a numpy array\n",
        "recmovies_slopeone = np.array(reclist_slopeone).astype(int)\n",
        "\n",
        "# Utilizamos la estructura de datos de los items para encontrar los títulos recomendados\n",
        "print('Lista de items por nombre:')\n",
        "info_file.loc[recmovies_slopeone]['title']"
      ],
      "execution_count": 16,
      "outputs": [
        {
          "output_type": "stream",
          "text": [
            "Lista de items según ID: ['1512', '1536', '76', '74', '73']\n",
            "Lista de items por nombre:\n"
          ],
          "name": "stdout"
        },
        {
          "output_type": "execute_result",
          "data": {
            "text/plain": [
              "movieid\n",
              "1512    World of Apu, The (Apur Sansar) (1959)\n",
              "1536                      Aiqing wansui (1994)\n",
              "76                        Carlito's Way (1993)\n",
              "74         Faster Pussycat! Kill! Kill! (1965)\n",
              "73                             Maverick (1994)\n",
              "Name: title, dtype: object"
            ]
          },
          "metadata": {},
          "execution_count": 16
        }
      ]
    },
    {
      "cell_type": "markdown",
      "metadata": {
        "id": "iU2NlezaiIur"
      },
      "source": [
        "## Actividad 5 👩🏻‍💻\n",
        "\n",
        "Dado el usuario ID:44, cree dos listas de películas recomendadas; la primera utilizando el algoritmo Most Popular y la segunda utilizando el algoritmo Slope One.\n",
        "\n",
        "**Pregunta:** Realice un analisis apreciativo de las similitudes y diferencias entre ambas recomendaciones.\n",
        "\n",
        "**Respuesta:** Slope One a diferencia de Most Popular, hace recomendaciones personalizadas, es por esto que las peliculas recomendadas por ambos métodos son distintas. Mientras Most Popular recomienda lo mismo para todos los usuarios, Slope One usa los ratings de todos los usuarios de manera tal que la recomendación se ajuste al usuario en particular."
      ]
    },
    {
      "cell_type": "code",
      "metadata": {
        "id": "Rxk9ySLQiMC4",
        "colab": {
          "base_uri": "https://localhost:8080/"
        },
        "outputId": "6f04dd18-3e3f-4dce-c071-8ef0437f47ef"
      },
      "source": [
        "# Definicion de objeto \"most popular\"\n",
        "most_popular = pyreclab.MostPopular(dataset='u1.base',\n",
        "                   dlmchar=b'\\t',\n",
        "                   header=False,\n",
        "                   usercol=0,\n",
        "                   itemcol=1,\n",
        "                   ratingcol=2)\n",
        "\n",
        "# en teoria no es \"entrenar\" , objeto \"most_popular\" solo registra los items más populares en el set de entrenamiento  \n",
        "most_popular.train()\n",
        "\n",
        "# Calcular las recomendaciones para un usuario en particular (id =2)\n",
        "user_id = 44\n",
        "\n",
        "print(\"Recomendacion Most Popular:\")\n",
        "ranking = [int(r) for r in most_popular.recommend(str(user_id), 5, includeRated=False)]\n",
        "print(info_file.loc[ranking]['title'])\n",
        "\n",
        "# Mediante el método recommend() genereremos una lista top-5 recomendaciones para el usuario ID:457\n",
        "reclist_slopeone = mySlopeOne.recommend(str(user_id), 5)\n",
        "\n",
        "# Lo convertimos a numpy array\n",
        "recmovies_slopeone = np.array(reclist_slopeone).astype(int)\n",
        "\n",
        "# Utilizamos la estructura de datos de los items para encontrar los títulos recomendados\n",
        "print(\"\\nRecomendacion Slope One:\")\n",
        "info_file.loc[recmovies_slopeone]['title']"
      ],
      "execution_count": 21,
      "outputs": [
        {
          "output_type": "stream",
          "text": [
            "Recomendacion Most Popular:\n",
            "movieid\n",
            "50                Star Wars (1977)\n",
            "100                   Fargo (1996)\n",
            "181      Return of the Jedi (1983)\n",
            "286    English Patient, The (1996)\n",
            "1                 Toy Story (1995)\n",
            "Name: title, dtype: object\n",
            "\n",
            "Recomendacion Slope One:\n"
          ],
          "name": "stdout"
        },
        {
          "output_type": "execute_result",
          "data": {
            "text/plain": [
              "movieid\n",
              "1656          Little City (1998)\n",
              "1064            Crossfire (1947)\n",
              "1643           Angel Baby (1995)\n",
              "1642    Some Mother's Son (1996)\n",
              "1625           Nightwatch (1997)\n",
              "Name: title, dtype: object"
            ]
          },
          "metadata": {},
          "execution_count": 21
        }
      ]
    },
    {
      "cell_type": "code",
      "metadata": {
        "id": "Dit76Zj2fGOX"
      },
      "source": [
        ""
      ],
      "execution_count": null,
      "outputs": []
    }
  ]
}